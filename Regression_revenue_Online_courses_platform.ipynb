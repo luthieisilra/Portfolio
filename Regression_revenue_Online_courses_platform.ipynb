{
  "cells": [
    {
      "cell_type": "code",
      "source": [
        "Channel analysis impact on revenue: which channel generates more revenue? - Linear regression analysis - Google analytics data"
      ],
      "metadata": {
        "id": "5yemg5sYqvVZ"
      },
      "execution_count": null,
      "outputs": []
    },
    {
      "cell_type": "markdown",
      "source": [],
      "metadata": {
        "id": "XlVKl_K6qud5"
      }
    },
    {
      "cell_type": "code",
      "execution_count": null,
      "metadata": {
        "id": "Yf8PnyBXcLvM"
      },
      "outputs": [],
      "source": [
        "import pandas as pd"
      ]
    },
    {
      "cell_type": "code",
      "execution_count": null,
      "metadata": {
        "id": "7Q7zQhiVcLvT"
      },
      "outputs": [],
      "source": [
        "data_AMC = pd.read_csv(r'Montly revenue 2017-2021 - AMC - Sheet1.csv')"
      ]
    },
    {
      "cell_type": "code",
      "execution_count": null,
      "metadata": {
        "id": "_puGVRnhcLvV",
        "outputId": "51b30292-c9c6-4197-c1ab-67c07b283eca"
      },
      "outputs": [
        {
          "data": {
            "text/html": [
              "<div>\n",
              "<style scoped>\n",
              "    .dataframe tbody tr th:only-of-type {\n",
              "        vertical-align: middle;\n",
              "    }\n",
              "\n",
              "    .dataframe tbody tr th {\n",
              "        vertical-align: top;\n",
              "    }\n",
              "\n",
              "    .dataframe thead th {\n",
              "        text-align: right;\n",
              "    }\n",
              "</style>\n",
              "<table border=\"1\" class=\"dataframe\">\n",
              "  <thead>\n",
              "    <tr style=\"text-align: right;\">\n",
              "      <th></th>\n",
              "      <th>Month</th>\n",
              "      <th>Channel group</th>\n",
              "      <th>Sessions</th>\n",
              "      <th>Transactions</th>\n",
              "      <th>Transaction revenue</th>\n",
              "    </tr>\n",
              "  </thead>\n",
              "  <tbody>\n",
              "    <tr>\n",
              "      <th>0</th>\n",
              "      <td>2017-12-01</td>\n",
              "      <td>(Other)</td>\n",
              "      <td>102</td>\n",
              "      <td>8</td>\n",
              "      <td>14.99</td>\n",
              "    </tr>\n",
              "    <tr>\n",
              "      <th>1</th>\n",
              "      <td>2017-12-01</td>\n",
              "      <td>Direct</td>\n",
              "      <td>663</td>\n",
              "      <td>24</td>\n",
              "      <td>3337.28</td>\n",
              "    </tr>\n",
              "    <tr>\n",
              "      <th>2</th>\n",
              "      <td>2017-12-01</td>\n",
              "      <td>Display</td>\n",
              "      <td>8</td>\n",
              "      <td>0</td>\n",
              "      <td>0.00</td>\n",
              "    </tr>\n",
              "    <tr>\n",
              "      <th>3</th>\n",
              "      <td>2017-12-01</td>\n",
              "      <td>Email</td>\n",
              "      <td>78</td>\n",
              "      <td>5</td>\n",
              "      <td>1652.00</td>\n",
              "    </tr>\n",
              "    <tr>\n",
              "      <th>4</th>\n",
              "      <td>2017-12-01</td>\n",
              "      <td>Organic Search</td>\n",
              "      <td>355</td>\n",
              "      <td>9</td>\n",
              "      <td>1035.88</td>\n",
              "    </tr>\n",
              "  </tbody>\n",
              "</table>\n",
              "</div>"
            ],
            "text/plain": [
              "        Month   Channel group  Sessions  Transactions  Transaction revenue\n",
              "0  2017-12-01         (Other)       102             8                14.99\n",
              "1  2017-12-01          Direct       663            24              3337.28\n",
              "2  2017-12-01         Display         8             0                 0.00\n",
              "3  2017-12-01           Email        78             5              1652.00\n",
              "4  2017-12-01  Organic Search       355             9              1035.88"
            ]
          },
          "execution_count": 3,
          "metadata": {},
          "output_type": "execute_result"
        }
      ],
      "source": [
        "data_AMC.head()"
      ]
    },
    {
      "cell_type": "code",
      "execution_count": null,
      "metadata": {
        "id": "5aZgL3FYcLvX"
      },
      "outputs": [],
      "source": [
        "len(data_AMC)"
      ]
    },
    {
      "cell_type": "code",
      "execution_count": null,
      "metadata": {
        "id": "dnIEZ2MycLvY",
        "outputId": "5fc7e9ea-c41b-4300-b519-c56eca61b96f"
      },
      "outputs": [
        {
          "name": "stderr",
          "output_type": "stream",
          "text": [
            "In c:\\users\\crist\\appdata\\local\\programs\\python\\python38\\lib\\site-packages\\matplotlib\\mpl-data\\stylelib\\_classic_test.mplstyle: \n",
            "The text.latex.preview rcparam was deprecated in Matplotlib 3.3 and will be removed two minor releases later.\n",
            "In c:\\users\\crist\\appdata\\local\\programs\\python\\python38\\lib\\site-packages\\matplotlib\\mpl-data\\stylelib\\_classic_test.mplstyle: \n",
            "The mathtext.fallback_to_cm rcparam was deprecated in Matplotlib 3.3 and will be removed two minor releases later.\n",
            "In c:\\users\\crist\\appdata\\local\\programs\\python\\python38\\lib\\site-packages\\matplotlib\\mpl-data\\stylelib\\_classic_test.mplstyle: Support for setting the 'mathtext.fallback_to_cm' rcParam is deprecated since 3.3 and will be removed two minor releases later; use 'mathtext.fallback : 'cm' instead.\n",
            "In c:\\users\\crist\\appdata\\local\\programs\\python\\python38\\lib\\site-packages\\matplotlib\\mpl-data\\stylelib\\_classic_test.mplstyle: \n",
            "The validate_bool_maybe_none function was deprecated in Matplotlib 3.3 and will be removed two minor releases later.\n",
            "In c:\\users\\crist\\appdata\\local\\programs\\python\\python38\\lib\\site-packages\\matplotlib\\mpl-data\\stylelib\\_classic_test.mplstyle: \n",
            "The savefig.jpeg_quality rcparam was deprecated in Matplotlib 3.3 and will be removed two minor releases later.\n",
            "In c:\\users\\crist\\appdata\\local\\programs\\python\\python38\\lib\\site-packages\\matplotlib\\mpl-data\\stylelib\\_classic_test.mplstyle: \n",
            "The keymap.all_axes rcparam was deprecated in Matplotlib 3.3 and will be removed two minor releases later.\n",
            "In c:\\users\\crist\\appdata\\local\\programs\\python\\python38\\lib\\site-packages\\matplotlib\\mpl-data\\stylelib\\_classic_test.mplstyle: \n",
            "The animation.avconv_path rcparam was deprecated in Matplotlib 3.3 and will be removed two minor releases later.\n",
            "In c:\\users\\crist\\appdata\\local\\programs\\python\\python38\\lib\\site-packages\\matplotlib\\mpl-data\\stylelib\\_classic_test.mplstyle: \n",
            "The animation.avconv_args rcparam was deprecated in Matplotlib 3.3 and will be removed two minor releases later.\n"
          ]
        }
      ],
      "source": [
        "from sklearn.datasets import make_regression\n",
        "from sklearn.ensemble import RandomForestRegressor\n",
        "from sklearn.ensemble import RandomForestClassifier\n",
        "from matplotlib import pyplot\n",
        "import numpy as np\n",
        "import statsmodels.api as sm\n"
      ]
    },
    {
      "cell_type": "code",
      "execution_count": null,
      "metadata": {
        "id": "T4L4XTwwcLvZ",
        "outputId": "8c42c869-3f80-49d2-ed88-44dd59cde039"
      },
      "outputs": [
        {
          "data": {
            "text/plain": [
              "['Month', 'Channel group', 'Sessions', 'Transactions', 'Transaction revenue']"
            ]
          },
          "execution_count": 6,
          "metadata": {},
          "output_type": "execute_result"
        }
      ],
      "source": [
        "list(data_AMC.columns)"
      ]
    },
    {
      "cell_type": "code",
      "execution_count": null,
      "metadata": {
        "id": "8cZ0a12McLva"
      },
      "outputs": [],
      "source": []
    },
    {
      "cell_type": "code",
      "execution_count": null,
      "metadata": {
        "id": "8i-uI5pbcLva"
      },
      "outputs": [],
      "source": [
        "y=data_AMC['Transaction revenue']"
      ]
    },
    {
      "cell_type": "code",
      "execution_count": null,
      "metadata": {
        "id": "7F9spSjzcLvb"
      },
      "outputs": [],
      "source": [
        "dummy_channel = pd.get_dummies(data_AMC['Channel group'])"
      ]
    },
    {
      "cell_type": "code",
      "execution_count": null,
      "metadata": {
        "id": "84kGy0eycLvc"
      },
      "outputs": [],
      "source": [
        "#we need to drop one to eliminate multicollinearity\n",
        "dummy_channel=dummy_channel.drop(['(Other)'], axis=1)"
      ]
    },
    {
      "cell_type": "code",
      "execution_count": null,
      "metadata": {
        "id": "acuPvF1ncLvd"
      },
      "outputs": [],
      "source": [
        "data_AMC = pd.concat([dummy_channel,data_AMC], axis=1)"
      ]
    },
    {
      "cell_type": "code",
      "execution_count": null,
      "metadata": {
        "id": "pasAbMzhcLve",
        "outputId": "65220f7e-eeb6-4656-9e96-0a379c32fda7"
      },
      "outputs": [
        {
          "data": {
            "text/html": [
              "<div>\n",
              "<style scoped>\n",
              "    .dataframe tbody tr th:only-of-type {\n",
              "        vertical-align: middle;\n",
              "    }\n",
              "\n",
              "    .dataframe tbody tr th {\n",
              "        vertical-align: top;\n",
              "    }\n",
              "\n",
              "    .dataframe thead th {\n",
              "        text-align: right;\n",
              "    }\n",
              "</style>\n",
              "<table border=\"1\" class=\"dataframe\">\n",
              "  <thead>\n",
              "    <tr style=\"text-align: right;\">\n",
              "      <th></th>\n",
              "      <th>Direct</th>\n",
              "      <th>Display</th>\n",
              "      <th>Email</th>\n",
              "      <th>Organic Search</th>\n",
              "      <th>Paid Search</th>\n",
              "      <th>Referral</th>\n",
              "      <th>Social</th>\n",
              "      <th>Month</th>\n",
              "      <th>Channel group</th>\n",
              "      <th>Sessions</th>\n",
              "      <th>Transactions</th>\n",
              "      <th>Transaction revenue</th>\n",
              "    </tr>\n",
              "  </thead>\n",
              "  <tbody>\n",
              "    <tr>\n",
              "      <th>0</th>\n",
              "      <td>0</td>\n",
              "      <td>0</td>\n",
              "      <td>0</td>\n",
              "      <td>0</td>\n",
              "      <td>0</td>\n",
              "      <td>0</td>\n",
              "      <td>0</td>\n",
              "      <td>2017-12-01</td>\n",
              "      <td>(Other)</td>\n",
              "      <td>102</td>\n",
              "      <td>8</td>\n",
              "      <td>14.99</td>\n",
              "    </tr>\n",
              "    <tr>\n",
              "      <th>1</th>\n",
              "      <td>1</td>\n",
              "      <td>0</td>\n",
              "      <td>0</td>\n",
              "      <td>0</td>\n",
              "      <td>0</td>\n",
              "      <td>0</td>\n",
              "      <td>0</td>\n",
              "      <td>2017-12-01</td>\n",
              "      <td>Direct</td>\n",
              "      <td>663</td>\n",
              "      <td>24</td>\n",
              "      <td>3337.28</td>\n",
              "    </tr>\n",
              "    <tr>\n",
              "      <th>2</th>\n",
              "      <td>0</td>\n",
              "      <td>1</td>\n",
              "      <td>0</td>\n",
              "      <td>0</td>\n",
              "      <td>0</td>\n",
              "      <td>0</td>\n",
              "      <td>0</td>\n",
              "      <td>2017-12-01</td>\n",
              "      <td>Display</td>\n",
              "      <td>8</td>\n",
              "      <td>0</td>\n",
              "      <td>0.00</td>\n",
              "    </tr>\n",
              "    <tr>\n",
              "      <th>3</th>\n",
              "      <td>0</td>\n",
              "      <td>0</td>\n",
              "      <td>1</td>\n",
              "      <td>0</td>\n",
              "      <td>0</td>\n",
              "      <td>0</td>\n",
              "      <td>0</td>\n",
              "      <td>2017-12-01</td>\n",
              "      <td>Email</td>\n",
              "      <td>78</td>\n",
              "      <td>5</td>\n",
              "      <td>1652.00</td>\n",
              "    </tr>\n",
              "    <tr>\n",
              "      <th>4</th>\n",
              "      <td>0</td>\n",
              "      <td>0</td>\n",
              "      <td>0</td>\n",
              "      <td>1</td>\n",
              "      <td>0</td>\n",
              "      <td>0</td>\n",
              "      <td>0</td>\n",
              "      <td>2017-12-01</td>\n",
              "      <td>Organic Search</td>\n",
              "      <td>355</td>\n",
              "      <td>9</td>\n",
              "      <td>1035.88</td>\n",
              "    </tr>\n",
              "  </tbody>\n",
              "</table>\n",
              "</div>"
            ],
            "text/plain": [
              "   Direct  Display  Email  Organic Search  Paid Search  Referral  Social  \\\n",
              "0       0        0      0               0            0         0       0   \n",
              "1       1        0      0               0            0         0       0   \n",
              "2       0        1      0               0            0         0       0   \n",
              "3       0        0      1               0            0         0       0   \n",
              "4       0        0      0               1            0         0       0   \n",
              "\n",
              "        Month   Channel group  Sessions  Transactions  Transaction revenue  \n",
              "0  2017-12-01         (Other)       102             8                14.99  \n",
              "1  2017-12-01          Direct       663            24              3337.28  \n",
              "2  2017-12-01         Display         8             0                 0.00  \n",
              "3  2017-12-01           Email        78             5              1652.00  \n",
              "4  2017-12-01  Organic Search       355             9              1035.88  "
            ]
          },
          "execution_count": 11,
          "metadata": {},
          "output_type": "execute_result"
        }
      ],
      "source": [
        "data_AMC.head()"
      ]
    },
    {
      "cell_type": "code",
      "execution_count": null,
      "metadata": {
        "id": "FcTXdLhxcLve",
        "outputId": "97913a67-c230-4d2e-b2d1-d70758a42da5"
      },
      "outputs": [
        {
          "data": {
            "text/plain": [
              "Direct                   uint8\n",
              "Display                  uint8\n",
              "Email                    uint8\n",
              "Organic Search           uint8\n",
              "Paid Search              uint8\n",
              "Referral                 uint8\n",
              "Social                   uint8\n",
              "Month                   object\n",
              "Channel group           object\n",
              "Sessions                 int64\n",
              "Transactions             int64\n",
              "Transaction revenue    float64\n",
              "dtype: object"
            ]
          },
          "execution_count": 12,
          "metadata": {},
          "output_type": "execute_result"
        }
      ],
      "source": [
        "data_AMC.dtypes"
      ]
    },
    {
      "cell_type": "code",
      "execution_count": null,
      "metadata": {
        "id": "Kz_END93cLvf"
      },
      "outputs": [],
      "source": [
        "#month is used as ID, we drop social to eliminate multicolinearity\n",
        "X_all = data_AMC[[ 'Direct',\n",
        " 'Display',\n",
        " 'Email',\n",
        " 'Organic Search',\n",
        " 'Paid Search',\n",
        " 'Referral',\n",
        " 'Sessions',\n",
        " 'Transactions',\n",
        " ]]"
      ]
    },
    {
      "cell_type": "code",
      "execution_count": null,
      "metadata": {
        "id": "PpCy7FdHcLvg"
      },
      "outputs": [],
      "source": [
        "X_all = X_all.apply(pd.to_numeric, errors='coerce')"
      ]
    },
    {
      "cell_type": "code",
      "execution_count": null,
      "metadata": {
        "id": "riDMlViwcLvg",
        "outputId": "b0271913-e3a6-4d54-e2c2-38c1b7c3ee1c"
      },
      "outputs": [
        {
          "name": "stdout",
          "output_type": "stream",
          "text": [
            "                             OLS Regression Results                            \n",
            "===============================================================================\n",
            "Dep. Variable:     Transaction revenue   R-squared:                       0.914\n",
            "Model:                             OLS   Adj. R-squared:                  0.912\n",
            "Method:                  Least Squares   F-statistic:                     431.0\n",
            "Date:                 Tue, 20 Jul 2021   Prob (F-statistic):          1.12e-167\n",
            "Time:                         09:11:47   Log-Likelihood:                -3421.2\n",
            "No. Observations:                  333   AIC:                             6860.\n",
            "Df Residuals:                      324   BIC:                             6895.\n",
            "Df Model:                            8                                         \n",
            "Covariance Type:             nonrobust                                         \n",
            "==================================================================================\n",
            "                     coef    std err          t      P>|t|      [0.025      0.975]\n",
            "----------------------------------------------------------------------------------\n",
            "const          -5376.0473    858.464     -6.262      0.000   -7064.915   -3687.180\n",
            "Direct          4108.7299   2419.396      1.698      0.090    -650.978    8868.438\n",
            "Display         4638.5902   1452.562      3.193      0.002    1780.946    7496.235\n",
            "Email           2.278e+04   1453.614     15.674      0.000    1.99e+04    2.56e+04\n",
            "Organic Search  1.238e+04   3150.796      3.930      0.000    6184.482    1.86e+04\n",
            "Paid Search     4.053e+04   1838.888     22.042      0.000    3.69e+04    4.42e+04\n",
            "Referral         508.2620   1430.059      0.355      0.723   -2305.112    3321.636\n",
            "Sessions           0.3218      0.126      2.544      0.011       0.073       0.571\n",
            "Transactions      54.6990      3.400     16.088      0.000      48.010      61.388\n",
            "==============================================================================\n",
            "Omnibus:                       21.076   Durbin-Watson:                   1.954\n",
            "Prob(Omnibus):                  0.000   Jarque-Bera (JB):               67.969\n",
            "Skew:                          -0.008   Prob(JB):                     1.74e-15\n",
            "Kurtosis:                       5.213   Cond. No.                     1.09e+05\n",
            "==============================================================================\n",
            "\n",
            "Warnings:\n",
            "[1] Standard Errors assume that the covariance matrix of the errors is correctly specified.\n",
            "[2] The condition number is large, 1.09e+05. This might indicate that there are\n",
            "strong multicollinearity or other numerical problems.\n"
          ]
        }
      ],
      "source": [
        "X_all = sm.add_constant(X_all)\n",
        "\n",
        "model = sm.OLS(y, X_all).fit()\n",
        "\n",
        "print_model = model.summary()\n",
        "\n",
        "print(print_model)"
      ]
    },
    {
      "cell_type": "code",
      "execution_count": null,
      "metadata": {
        "id": "OjjuweB_cLvh"
      },
      "outputs": [],
      "source": [
        "import math"
      ]
    },
    {
      "cell_type": "code",
      "execution_count": null,
      "metadata": {
        "id": "h8jliBqlcLvi"
      },
      "outputs": [],
      "source": [
        "organic= math.log(.5441)\n",
        "display=1\n",
        "email=math.log(.096)\n",
        "paidsearch=math.log(.2572)#negative\n",
        "sessions=math.log(.0955)\n",
        "transactions=math.log(.2852)#negative"
      ]
    },
    {
      "cell_type": "code",
      "execution_count": null,
      "metadata": {
        "id": "LuWNP212cLvi"
      },
      "outputs": [],
      "source": [
        "revenue = -5376.04+(display*4638.59)+(email*22780)+(organic*12380)-(paidsearch*40530)+(sessions*.3218)-(54.6990*transactions)"
      ]
    },
    {
      "cell_type": "code",
      "execution_count": null,
      "metadata": {
        "id": "F7db5WI3cLvj"
      },
      "outputs": [],
      "source": [
        "revenue = -revenue"
      ]
    },
    {
      "cell_type": "code",
      "execution_count": null,
      "metadata": {
        "id": "n6JqA988cLvj",
        "outputId": "539cc16a-8aa8-4b5b-f5fb-f41e1345941c"
      },
      "outputs": [
        {
          "data": {
            "text/plain": [
              "8.787434018586827"
            ]
          },
          "execution_count": 35,
          "metadata": {},
          "output_type": "execute_result"
        }
      ],
      "source": [
        "math.log(revenue)"
      ]
    },
    {
      "cell_type": "markdown",
      "metadata": {
        "id": "cSaSF0WocLvk"
      },
      "source": [
        "# 8.78% expected decrease from last year and we had a 6.63% increase"
      ]
    },
    {
      "cell_type": "code",
      "execution_count": null,
      "metadata": {
        "id": "OVLE4XHvcLvm"
      },
      "outputs": [],
      "source": [
        "from statsmodels.stats.outliers_influence import variance_inflation_factor\n",
        "\n",
        "def calc_vif(X):\n",
        "\n",
        "    # Calculating VIF\n",
        "    vif = pd.DataFrame()\n",
        "    vif[\"variables\"] = X_all.columns\n",
        "    vif[\"VIF\"] = [variance_inflation_factor(X_all.values, i) for i in range(X_all.shape[1])]\n",
        "\n",
        "    return(vif)"
      ]
    },
    {
      "cell_type": "code",
      "execution_count": null,
      "metadata": {
        "id": "GA1nyKoccLvn",
        "outputId": "d409eb35-f103-4b57-81cb-ea28d6b1fc8d"
      },
      "outputs": [
        {
          "data": {
            "text/html": [
              "<div>\n",
              "<style scoped>\n",
              "    .dataframe tbody tr th:only-of-type {\n",
              "        vertical-align: middle;\n",
              "    }\n",
              "\n",
              "    .dataframe tbody tr th {\n",
              "        vertical-align: top;\n",
              "    }\n",
              "\n",
              "    .dataframe thead th {\n",
              "        text-align: right;\n",
              "    }\n",
              "</style>\n",
              "<table border=\"1\" class=\"dataframe\">\n",
              "  <thead>\n",
              "    <tr style=\"text-align: right;\">\n",
              "      <th></th>\n",
              "      <th>variables</th>\n",
              "      <th>VIF</th>\n",
              "    </tr>\n",
              "  </thead>\n",
              "  <tbody>\n",
              "    <tr>\n",
              "      <th>0</th>\n",
              "      <td>const</td>\n",
              "      <td>4.860672</td>\n",
              "    </tr>\n",
              "    <tr>\n",
              "      <th>1</th>\n",
              "      <td>Direct</td>\n",
              "      <td>4.255197</td>\n",
              "    </tr>\n",
              "    <tr>\n",
              "      <th>2</th>\n",
              "      <td>Display</td>\n",
              "      <td>1.438948</td>\n",
              "    </tr>\n",
              "    <tr>\n",
              "      <th>3</th>\n",
              "      <td>Email</td>\n",
              "      <td>1.536045</td>\n",
              "    </tr>\n",
              "    <tr>\n",
              "      <th>4</th>\n",
              "      <td>Organic Search</td>\n",
              "      <td>7.216831</td>\n",
              "    </tr>\n",
              "    <tr>\n",
              "      <th>5</th>\n",
              "      <td>Paid Search</td>\n",
              "      <td>2.458194</td>\n",
              "    </tr>\n",
              "    <tr>\n",
              "      <th>6</th>\n",
              "      <td>Referral</td>\n",
              "      <td>1.486668</td>\n",
              "    </tr>\n",
              "    <tr>\n",
              "      <th>7</th>\n",
              "      <td>Sessions</td>\n",
              "      <td>7.844887</td>\n",
              "    </tr>\n",
              "    <tr>\n",
              "      <th>8</th>\n",
              "      <td>Transactions</td>\n",
              "      <td>4.735382</td>\n",
              "    </tr>\n",
              "  </tbody>\n",
              "</table>\n",
              "</div>"
            ],
            "text/plain": [
              "        variables       VIF\n",
              "0           const  4.860672\n",
              "1          Direct  4.255197\n",
              "2         Display  1.438948\n",
              "3           Email  1.536045\n",
              "4  Organic Search  7.216831\n",
              "5     Paid Search  2.458194\n",
              "6        Referral  1.486668\n",
              "7        Sessions  7.844887\n",
              "8    Transactions  4.735382"
            ]
          },
          "execution_count": 19,
          "metadata": {},
          "output_type": "execute_result"
        }
      ],
      "source": [
        "#checking for multicolinearity\n",
        "calc_vif(X_all)"
      ]
    },
    {
      "cell_type": "code",
      "execution_count": null,
      "metadata": {
        "id": "HxCx74J7cLvo"
      },
      "outputs": [],
      "source": []
    }
  ],
  "metadata": {
    "kernelspec": {
      "display_name": "Python 3",
      "language": "python",
      "name": "python3"
    },
    "language_info": {
      "codemirror_mode": {
        "name": "ipython",
        "version": 3
      },
      "file_extension": ".py",
      "mimetype": "text/x-python",
      "name": "python",
      "nbconvert_exporter": "python",
      "pygments_lexer": "ipython3",
      "version": "3.8.1"
    },
    "colab": {
      "provenance": []
    }
  },
  "nbformat": 4,
  "nbformat_minor": 0
}