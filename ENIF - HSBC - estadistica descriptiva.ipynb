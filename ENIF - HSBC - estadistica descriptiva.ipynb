{
 "cells": [
  {
   "cell_type": "code",
   "execution_count": 1,
   "metadata": {},
   "outputs": [],
   "source": [
    "import pandas as pd\n",
    "ENIF_MODULO = pd.read_csv(r'tmodulo.csv')"
   ]
  },
  {
   "cell_type": "code",
   "execution_count": 3,
   "metadata": {
    "scrolled": true
   },
   "outputs": [
    {
     "data": {
      "text/html": [
       "<div>\n",
       "<style scoped>\n",
       "    .dataframe tbody tr th:only-of-type {\n",
       "        vertical-align: middle;\n",
       "    }\n",
       "\n",
       "    .dataframe tbody tr th {\n",
       "        vertical-align: top;\n",
       "    }\n",
       "\n",
       "    .dataframe thead th {\n",
       "        text-align: right;\n",
       "    }\n",
       "</style>\n",
       "<table border=\"1\" class=\"dataframe\">\n",
       "  <thead>\n",
       "    <tr style=\"text-align: right;\">\n",
       "      <th></th>\n",
       "      <th>upm</th>\n",
       "      <th>viv_sel</th>\n",
       "      <th>hogar</th>\n",
       "      <th>n_ren</th>\n",
       "      <th>p3_1</th>\n",
       "      <th>p3_2</th>\n",
       "      <th>p3_3</th>\n",
       "      <th>niv</th>\n",
       "      <th>gra</th>\n",
       "      <th>p3_5</th>\n",
       "      <th>...</th>\n",
       "      <th>p6_19_5</th>\n",
       "      <th>p6_19_6</th>\n",
       "      <th>p6_19_9</th>\n",
       "      <th>edad</th>\n",
       "      <th>sexo</th>\n",
       "      <th>region</th>\n",
       "      <th>tloc</th>\n",
       "      <th>est_dis</th>\n",
       "      <th>upm_dis</th>\n",
       "      <th>fac_per</th>\n",
       "    </tr>\n",
       "  </thead>\n",
       "  <tbody>\n",
       "    <tr>\n",
       "      <th>0</th>\n",
       "      <td>100041</td>\n",
       "      <td>2</td>\n",
       "      <td>1</td>\n",
       "      <td>1</td>\n",
       "      <td>1</td>\n",
       "      <td>5</td>\n",
       "      <td>3</td>\n",
       "      <td>6</td>\n",
       "      <td>3</td>\n",
       "      <td>1</td>\n",
       "      <td>...</td>\n",
       "      <td>NaN</td>\n",
       "      <td>NaN</td>\n",
       "      <td>NaN</td>\n",
       "      <td>30</td>\n",
       "      <td>1</td>\n",
       "      <td>3</td>\n",
       "      <td>1</td>\n",
       "      <td>4</td>\n",
       "      <td>1</td>\n",
       "      <td>2611</td>\n",
       "    </tr>\n",
       "    <tr>\n",
       "      <th>1</th>\n",
       "      <td>100041</td>\n",
       "      <td>3</td>\n",
       "      <td>1</td>\n",
       "      <td>2</td>\n",
       "      <td>2</td>\n",
       "      <td>5</td>\n",
       "      <td>0</td>\n",
       "      <td>3</td>\n",
       "      <td>3</td>\n",
       "      <td>8</td>\n",
       "      <td>...</td>\n",
       "      <td>NaN</td>\n",
       "      <td>NaN</td>\n",
       "      <td>NaN</td>\n",
       "      <td>69</td>\n",
       "      <td>2</td>\n",
       "      <td>3</td>\n",
       "      <td>1</td>\n",
       "      <td>4</td>\n",
       "      <td>1</td>\n",
       "      <td>2998</td>\n",
       "    </tr>\n",
       "    <tr>\n",
       "      <th>2</th>\n",
       "      <td>100041</td>\n",
       "      <td>4</td>\n",
       "      <td>1</td>\n",
       "      <td>1</td>\n",
       "      <td>1</td>\n",
       "      <td>3</td>\n",
       "      <td>4</td>\n",
       "      <td>8</td>\n",
       "      <td>4</td>\n",
       "      <td>1</td>\n",
       "      <td>...</td>\n",
       "      <td>NaN</td>\n",
       "      <td>NaN</td>\n",
       "      <td>NaN</td>\n",
       "      <td>43</td>\n",
       "      <td>2</td>\n",
       "      <td>3</td>\n",
       "      <td>1</td>\n",
       "      <td>4</td>\n",
       "      <td>1</td>\n",
       "      <td>2139</td>\n",
       "    </tr>\n",
       "    <tr>\n",
       "      <th>3</th>\n",
       "      <td>100041</td>\n",
       "      <td>5</td>\n",
       "      <td>1</td>\n",
       "      <td>1</td>\n",
       "      <td>1</td>\n",
       "      <td>3</td>\n",
       "      <td>2</td>\n",
       "      <td>7</td>\n",
       "      <td>3</td>\n",
       "      <td>1</td>\n",
       "      <td>...</td>\n",
       "      <td>0.0</td>\n",
       "      <td>0.0</td>\n",
       "      <td>0.0</td>\n",
       "      <td>50</td>\n",
       "      <td>2</td>\n",
       "      <td>3</td>\n",
       "      <td>1</td>\n",
       "      <td>4</td>\n",
       "      <td>1</td>\n",
       "      <td>3509</td>\n",
       "    </tr>\n",
       "    <tr>\n",
       "      <th>4</th>\n",
       "      <td>100067</td>\n",
       "      <td>1</td>\n",
       "      <td>1</td>\n",
       "      <td>1</td>\n",
       "      <td>1</td>\n",
       "      <td>6</td>\n",
       "      <td>2</td>\n",
       "      <td>8</td>\n",
       "      <td>3</td>\n",
       "      <td>1</td>\n",
       "      <td>...</td>\n",
       "      <td>0.0</td>\n",
       "      <td>0.0</td>\n",
       "      <td>1.0</td>\n",
       "      <td>45</td>\n",
       "      <td>2</td>\n",
       "      <td>3</td>\n",
       "      <td>1</td>\n",
       "      <td>5</td>\n",
       "      <td>2</td>\n",
       "      <td>1357</td>\n",
       "    </tr>\n",
       "  </tbody>\n",
       "</table>\n",
       "<p>5 rows × 222 columns</p>\n",
       "</div>"
      ],
      "text/plain": [
       "      upm  viv_sel  hogar  n_ren  p3_1  p3_2  p3_3  niv  gra  p3_5  ...  \\\n",
       "0  100041        2      1      1     1     5     3    6    3     1  ...   \n",
       "1  100041        3      1      2     2     5     0    3    3     8  ...   \n",
       "2  100041        4      1      1     1     3     4    8    4     1  ...   \n",
       "3  100041        5      1      1     1     3     2    7    3     1  ...   \n",
       "4  100067        1      1      1     1     6     2    8    3     1  ...   \n",
       "\n",
       "   p6_19_5  p6_19_6  p6_19_9  edad  sexo  region  tloc  est_dis  upm_dis  \\\n",
       "0      NaN      NaN      NaN    30     1       3     1        4        1   \n",
       "1      NaN      NaN      NaN    69     2       3     1        4        1   \n",
       "2      NaN      NaN      NaN    43     2       3     1        4        1   \n",
       "3      0.0      0.0      0.0    50     2       3     1        4        1   \n",
       "4      0.0      0.0      1.0    45     2       3     1        5        2   \n",
       "\n",
       "   fac_per  \n",
       "0     2611  \n",
       "1     2998  \n",
       "2     2139  \n",
       "3     3509  \n",
       "4     1357  \n",
       "\n",
       "[5 rows x 222 columns]"
      ]
     },
     "execution_count": 3,
     "metadata": {},
     "output_type": "execute_result"
    }
   ],
   "source": [
    "ENIF_MODULO.head()"
   ]
  },
  {
   "cell_type": "code",
   "execution_count": 22,
   "metadata": {},
   "outputs": [
    {
     "data": {
      "text/plain": [
       "1908"
      ]
     },
     "execution_count": 22,
     "metadata": {},
     "output_type": "execute_result"
    }
   ],
   "source": [
    "ENIF_MODULO['upm'].nunique()"
   ]
  },
  {
   "cell_type": "code",
   "execution_count": 2,
   "metadata": {},
   "outputs": [
    {
     "data": {
      "text/plain": [
       "['upm',\n",
       " 'viv_sel',\n",
       " 'hogar',\n",
       " 'n_ren',\n",
       " 'p3_1',\n",
       " 'p3_2',\n",
       " 'p3_3',\n",
       " 'niv',\n",
       " 'gra',\n",
       " 'p3_5',\n",
       " 'p3_6',\n",
       " 'p3_7',\n",
       " 'p3_8a',\n",
       " 'p3_8b',\n",
       " 'p3_9',\n",
       " 'p3_10_1',\n",
       " 'p3_10_2',\n",
       " 'p3_10_3',\n",
       " 'p3_10_4',\n",
       " 'p3_10_5',\n",
       " 'p3_11',\n",
       " 'p3_12',\n",
       " 'p4_1',\n",
       " 'p4_2',\n",
       " 'p4_3',\n",
       " 'p4_4_1',\n",
       " 'p4_4_2',\n",
       " 'p4_4_3',\n",
       " 'p4_4_4',\n",
       " 'p4_4_5',\n",
       " 'p4_4_6',\n",
       " 'p4_4_7',\n",
       " 'p4_5',\n",
       " 'p4_6_1',\n",
       " 'p4_6_2',\n",
       " 'p4_6_3',\n",
       " 'p4_6_4',\n",
       " 'p4_6_5',\n",
       " 'p4_6_6',\n",
       " 'p4_7',\n",
       " 'p4_8_1',\n",
       " 'p4_8_2',\n",
       " 'p4_8_3',\n",
       " 'p4_8_4',\n",
       " 'p4_9_1',\n",
       " 'p4_9_2',\n",
       " 'p4_9_3',\n",
       " 'p5_1_1',\n",
       " 'p5_1_2',\n",
       " 'p5_1_3',\n",
       " 'p5_1_4',\n",
       " 'p5_1_5',\n",
       " 'p5_1_6',\n",
       " 'p5_2_1',\n",
       " 'p5_2_2',\n",
       " 'p5_2_3',\n",
       " 'p5_2_4',\n",
       " 'p5_2_5',\n",
       " 'p5_2_6',\n",
       " 'p5_2_7',\n",
       " 'p5_2_8',\n",
       " 'p5_2_9',\n",
       " 'p5_3',\n",
       " 'p5_4',\n",
       " 'p5_5',\n",
       " 'p5_6',\n",
       " 'p5_7',\n",
       " 'p5_8',\n",
       " 'p5_9_1',\n",
       " 'p5_10_1',\n",
       " 'p5_11_1',\n",
       " 'p5_12_1',\n",
       " 'p5_13_1',\n",
       " 'p5_9_2',\n",
       " 'p5_10_2',\n",
       " 'p5_11_2',\n",
       " 'p5_12_2',\n",
       " 'p5_13_2',\n",
       " 'p5_9_3',\n",
       " 'p5_10_3',\n",
       " 'p5_11_3',\n",
       " 'p5_12_3',\n",
       " 'p5_13_3',\n",
       " 'p5_9_4',\n",
       " 'p5_10_4',\n",
       " 'p5_11_4',\n",
       " 'p5_12_4',\n",
       " 'p5_13_4',\n",
       " 'p5_9_5',\n",
       " 'p5_10_5',\n",
       " 'p5_11_5',\n",
       " 'p5_12_5',\n",
       " 'p5_13_5',\n",
       " 'p5_9_6',\n",
       " 'p5_10_6',\n",
       " 'p5_11_6',\n",
       " 'p5_13_6',\n",
       " 'p5_9_7',\n",
       " 'p5_10_7',\n",
       " 'p5_11_7',\n",
       " 'p5_13_7',\n",
       " 'p5_9_8',\n",
       " 'p5_10_8',\n",
       " 'p5_11_8',\n",
       " 'p5_13_8',\n",
       " 'p5_14_1',\n",
       " 'p5_14_2',\n",
       " 'p5_14_3',\n",
       " 'p5_14_4',\n",
       " 'p5_14_5',\n",
       " 'p5_14_6',\n",
       " 'p5_14_7',\n",
       " 'p5_14_8',\n",
       " 'p5_14_9',\n",
       " 'p5_15',\n",
       " 'p5_16',\n",
       " 'p5_17',\n",
       " 'p5_18',\n",
       " 'p5_19',\n",
       " 'p5_20',\n",
       " 'p5_21',\n",
       " 'p5_22_1',\n",
       " 'p5_22_2',\n",
       " 'p5_22_3',\n",
       " 'p5_22_4',\n",
       " 'p5_22_5',\n",
       " 'p5_23',\n",
       " 'p5_24',\n",
       " 'p5_25_1',\n",
       " 'p5_25_2',\n",
       " 'p5_25_3',\n",
       " 'p5_25_4',\n",
       " 'p5_25_5',\n",
       " 'p5_26',\n",
       " 'p5_27',\n",
       " 'p5_28',\n",
       " 'p5_29',\n",
       " 'p5_30',\n",
       " 'p6_1_1',\n",
       " 'p6_1_2',\n",
       " 'p6_1_3',\n",
       " 'p6_1_4',\n",
       " 'p6_1_5',\n",
       " 'p6_2_1',\n",
       " 'p6_2_2',\n",
       " 'p6_2_3',\n",
       " 'p6_2_4',\n",
       " 'p6_2_5',\n",
       " 'p6_2_6',\n",
       " 'p6_2_7',\n",
       " 'p6_2_8',\n",
       " 'p6_2_9',\n",
       " 'p6_3',\n",
       " 'p6_4',\n",
       " 'p6_5',\n",
       " 'p6_6',\n",
       " 'p6_7',\n",
       " 'p6_8_1',\n",
       " 'p6_9_1',\n",
       " 'p6_10_1',\n",
       " 'p6_10a_1',\n",
       " 'p6_8_2',\n",
       " 'p6_9_2',\n",
       " 'p6_10_2',\n",
       " 'p6_10a_2',\n",
       " 'p6_8_3',\n",
       " 'p6_9_3',\n",
       " 'p6_10_3',\n",
       " 'p6_10a_3',\n",
       " 'p6_8_4',\n",
       " 'p6_9_4',\n",
       " 'p6_10_4',\n",
       " 'p6_10a_4',\n",
       " 'p6_8_5',\n",
       " 'p6_9_5',\n",
       " 'p6_10_5',\n",
       " 'p6_10a_5',\n",
       " 'p6_8_6',\n",
       " 'p6_9_6',\n",
       " 'p6_10_6',\n",
       " 'p6_10a_6',\n",
       " 'p6_8_7',\n",
       " 'p6_9_7',\n",
       " 'p6_10_7',\n",
       " 'p6_10a_7',\n",
       " 'p6_8_8',\n",
       " 'p6_11_1',\n",
       " 'p6_11_2',\n",
       " 'p6_11_3',\n",
       " 'p6_12_1',\n",
       " 'p6_12_2',\n",
       " 'p6_12_3',\n",
       " 'p6_12_4',\n",
       " 'p6_12_5',\n",
       " 'p6_12_6',\n",
       " 'p6_12_7',\n",
       " 'p6_12_8',\n",
       " 'p6_12_9',\n",
       " 'p6_13',\n",
       " 'p6_14',\n",
       " 'p6_15',\n",
       " 'p6_16',\n",
       " 'p6_17_1',\n",
       " 'p6_17_2',\n",
       " 'p6_17_3',\n",
       " 'p6_17_4',\n",
       " 'p6_17_5',\n",
       " 'p6_18',\n",
       " 'p6_19_1',\n",
       " 'p6_19_2',\n",
       " 'p6_19_3',\n",
       " 'p6_19_4',\n",
       " 'p6_19_5',\n",
       " 'p6_19_6',\n",
       " 'p6_19_9',\n",
       " 'edad',\n",
       " 'sexo',\n",
       " 'region',\n",
       " 'tloc',\n",
       " 'est_dis',\n",
       " 'upm_dis',\n",
       " 'fac_per']"
      ]
     },
     "execution_count": 2,
     "metadata": {},
     "output_type": "execute_result"
    }
   ],
   "source": [
    "list(ENIF_MODULO.columns)"
   ]
  },
  {
   "cell_type": "markdown",
   "metadata": {},
   "source": [
    "# Cuenta, tarjeta de nomina ahorro o pension"
   ]
  },
  {
   "cell_type": "code",
   "execution_count": 3,
   "metadata": {},
   "outputs": [
    {
     "data": {
      "text/plain": [
       "7.0    1633\n",
       "6.0    1166\n",
       "4.0     490\n",
       "5.0     294\n",
       "3.0     293\n",
       "8.0     280\n",
       "2.0     254\n",
       "9.0     188\n",
       "1.0     103\n",
       "Name: p5_7, dtype: int64"
      ]
     },
     "execution_count": 3,
     "metadata": {},
     "output_type": "execute_result"
    }
   ],
   "source": [
    "#p5_7 Pregunta 5.7 ¿Cuál es la razón principal por la que usted no tiene una cuenta o tarjeta?\n",
    "ENIF_MODULO['p5_7'].value_counts()"
   ]
  },
  {
   "cell_type": "markdown",
   "metadata": {},
   "source": [
    "1\tLa sucursal le queda lejos o no hay\n",
    "2\tLos intereses son bajos o las comisiones son altas\n",
    "3\tNo confía en instituciones financieras o le dan mal servicio\n",
    "4\tPiden requisitos que no tiene\n",
    "5\tPrefiere otras formas de ahorro (tanda, guardar en su casa, etcétera)\n",
    "6\tNo la necesita\n",
    "7\tNo le alcanza, sus ingresos son insuficientes o variables\n",
    "8\tNo sabe qué es o cómo usarla\n",
    "9\tOtro"
   ]
  },
  {
   "cell_type": "code",
   "execution_count": 5,
   "metadata": {},
   "outputs": [
    {
     "data": {
      "image/png": "[encoded data removed]",
      "text/plain": [
       "<Figure size 432x288 with 1 Axes>"
      ]
     },
     "metadata": {
      "needs_background": "light"
     },
     "output_type": "display_data"
    }
   ],
   "source": [
    "import seaborn as sns\n",
    "\n",
    "ax = sns.countplot(x=\"p5_7\", data=ENIF_MODULO)"
   ]
  },
  {
   "cell_type": "code",
   "execution_count": 6,
   "metadata": {},
   "outputs": [
    {
     "data": {
      "text/plain": [
       "2    7093\n",
       "1    5353\n",
       "Name: p5_4, dtype: int64"
      ]
     },
     "execution_count": 6,
     "metadata": {},
     "output_type": "execute_result"
    }
   ],
   "source": [
    "#'p5_4' Pregunta 5.4 ¿Usted tiene alguna cuenta o tarjeta de nómina, ahorro o pensión en algún banco o institución financiera?\n",
    "#1 Si 2 No\n",
    "ENIF_MODULO['p5_4'].value_counts()"
   ]
  },
  {
   "cell_type": "code",
   "execution_count": 2,
   "metadata": {},
   "outputs": [],
   "source": [
    "sin_cuenta = ENIF_MODULO['p5_4']==2\n",
    "ENIF_sin_cuenta = ENIF_MODULO[sin_cuenta]"
   ]
  },
  {
   "cell_type": "code",
   "execution_count": 8,
   "metadata": {},
   "outputs": [
    {
     "data": {
      "text/plain": [
       "(7093, 222)"
      ]
     },
     "execution_count": 8,
     "metadata": {},
     "output_type": "execute_result"
    }
   ],
   "source": [
    "ENIF_sin_cuenta.shape"
   ]
  },
  {
   "cell_type": "code",
   "execution_count": 9,
   "metadata": {},
   "outputs": [
    {
     "data": {
      "text/plain": [
       "18    234\n",
       "32    179\n",
       "40    178\n",
       "38    174\n",
       "33    173\n",
       "30    173\n",
       "23    173\n",
       "42    171\n",
       "19    171\n",
       "27    164\n",
       "28    161\n",
       "25    159\n",
       "35    159\n",
       "34    158\n",
       "20    157\n",
       "24    154\n",
       "53    154\n",
       "48    154\n",
       "39    153\n",
       "37    152\n",
       "21    148\n",
       "43    148\n",
       "45    146\n",
       "36    145\n",
       "50    142\n",
       "22    141\n",
       "47    139\n",
       "44    137\n",
       "52    136\n",
       "41    136\n",
       "29    133\n",
       "49    132\n",
       "46    130\n",
       "31    127\n",
       "60    127\n",
       "26    125\n",
       "55    116\n",
       "58    110\n",
       "65    109\n",
       "54    109\n",
       "56    103\n",
       "59    102\n",
       "57    100\n",
       "51     96\n",
       "62     94\n",
       "63     89\n",
       "68     88\n",
       "64     82\n",
       "67     82\n",
       "69     75\n",
       "66     70\n",
       "70     63\n",
       "61     62\n",
       "Name: edad, dtype: int64"
      ]
     },
     "execution_count": 9,
     "metadata": {},
     "output_type": "execute_result"
    }
   ],
   "source": [
    " ENIF_sin_cuenta['edad'].value_counts()\n"
   ]
  },
  {
   "cell_type": "code",
   "execution_count": 18,
   "metadata": {},
   "outputs": [
    {
     "data": {
      "text/plain": [
       "[Text(0, 0, '18'),\n",
       " Text(0, 0, '32'),\n",
       " Text(0, 0, '40'),\n",
       " Text(0, 0, '38'),\n",
       " Text(0, 0, '33'),\n",
       " Text(0, 0, '30'),\n",
       " Text(0, 0, '23'),\n",
       " Text(0, 0, '42'),\n",
       " Text(0, 0, '19'),\n",
       " Text(0, 0, '27'),\n",
       " Text(0, 0, '28'),\n",
       " Text(0, 0, '25'),\n",
       " Text(0, 0, '35'),\n",
       " Text(0, 0, '34'),\n",
       " Text(0, 0, '20'),\n",
       " Text(0, 0, '24'),\n",
       " Text(0, 0, '53'),\n",
       " Text(0, 0, '48'),\n",
       " Text(0, 0, '39'),\n",
       " Text(0, 0, '37'),\n",
       " Text(0, 0, '21'),\n",
       " Text(0, 0, '43'),\n",
       " Text(0, 0, '45'),\n",
       " Text(0, 0, '36'),\n",
       " Text(0, 0, '50'),\n",
       " Text(0, 0, '22'),\n",
       " Text(0, 0, '47'),\n",
       " Text(0, 0, '44'),\n",
       " Text(0, 0, '52'),\n",
       " Text(0, 0, '41'),\n",
       " Text(0, 0, '29'),\n",
       " Text(0, 0, '49'),\n",
       " Text(0, 0, '46'),\n",
       " Text(0, 0, '31'),\n",
       " Text(0, 0, '60'),\n",
       " Text(0, 0, '26'),\n",
       " Text(0, 0, '55'),\n",
       " Text(0, 0, '58'),\n",
       " Text(0, 0, '65'),\n",
       " Text(0, 0, '54'),\n",
       " Text(0, 0, '56'),\n",
       " Text(0, 0, '59'),\n",
       " Text(0, 0, '57'),\n",
       " Text(0, 0, '51'),\n",
       " Text(0, 0, '62'),\n",
       " Text(0, 0, '63'),\n",
       " Text(0, 0, '68'),\n",
       " Text(0, 0, '64'),\n",
       " Text(0, 0, '67'),\n",
       " Text(0, 0, '69'),\n",
       " Text(0, 0, '66'),\n",
       " Text(0, 0, '70'),\n",
       " Text(0, 0, '61')]"
      ]
     },
     "execution_count": 18,
     "metadata": {},
     "output_type": "execute_result"
    },
    {
     "data": {
      "image/png": "[encoded data removed]",
      "text/plain": [
       "<Figure size 720x360 with 1 Axes>"
      ]
     },
     "metadata": {
      "needs_background": "light"
     },
     "output_type": "display_data"
    }
   ],
   "source": [
    "import matplotlib.pyplot as plt\n",
    "plt.figure(figsize=(10,5))\n",
    "edad = sns.countplot(\n",
    "    data=ENIF_sin_cuenta,\n",
    "    x=\"edad\",\n",
    "    palette='Set1',\n",
    "    order = ENIF_sin_cuenta['edad'].value_counts().index\n",
    ")\n",
    "edad.set_xticklabels(edad.get_xticklabels(), rotation=90)"
   ]
  },
  {
   "cell_type": "code",
   "execution_count": 23,
   "metadata": {},
   "outputs": [],
   "source": [
    "#QUE EDAD TIENEN LAS QUE NO LA NECESITAN"
   ]
  },
  {
   "cell_type": "code",
   "execution_count": 5,
   "metadata": {},
   "outputs": [],
   "source": [
    "import matplotlib.pyplot as plt"
   ]
  },
  {
   "cell_type": "code",
   "execution_count": 11,
   "metadata": {},
   "outputs": [
    {
     "data": {
      "text/plain": [
       "[Text(0, 0, '18'),\n",
       " Text(0, 0, '32'),\n",
       " Text(0, 0, '40'),\n",
       " Text(0, 0, '38'),\n",
       " Text(0, 0, '33'),\n",
       " Text(0, 0, '30'),\n",
       " Text(0, 0, '23'),\n",
       " Text(0, 0, '42'),\n",
       " Text(0, 0, '19'),\n",
       " Text(0, 0, '27'),\n",
       " Text(0, 0, '28'),\n",
       " Text(0, 0, '25'),\n",
       " Text(0, 0, '35'),\n",
       " Text(0, 0, '34'),\n",
       " Text(0, 0, '20'),\n",
       " Text(0, 0, '24'),\n",
       " Text(0, 0, '53'),\n",
       " Text(0, 0, '48'),\n",
       " Text(0, 0, '39'),\n",
       " Text(0, 0, '37'),\n",
       " Text(0, 0, '21'),\n",
       " Text(0, 0, '43'),\n",
       " Text(0, 0, '45'),\n",
       " Text(0, 0, '36'),\n",
       " Text(0, 0, '50'),\n",
       " Text(0, 0, '22'),\n",
       " Text(0, 0, '47'),\n",
       " Text(0, 0, '44'),\n",
       " Text(0, 0, '52'),\n",
       " Text(0, 0, '41'),\n",
       " Text(0, 0, '29'),\n",
       " Text(0, 0, '49'),\n",
       " Text(0, 0, '46'),\n",
       " Text(0, 0, '31'),\n",
       " Text(0, 0, '60'),\n",
       " Text(0, 0, '26'),\n",
       " Text(0, 0, '55'),\n",
       " Text(0, 0, '58'),\n",
       " Text(0, 0, '65'),\n",
       " Text(0, 0, '54'),\n",
       " Text(0, 0, '56'),\n",
       " Text(0, 0, '59'),\n",
       " Text(0, 0, '57'),\n",
       " Text(0, 0, '51'),\n",
       " Text(0, 0, '62'),\n",
       " Text(0, 0, '63'),\n",
       " Text(0, 0, '68'),\n",
       " Text(0, 0, '64'),\n",
       " Text(0, 0, '67'),\n",
       " Text(0, 0, '69'),\n",
       " Text(0, 0, '66'),\n",
       " Text(0, 0, '70'),\n",
       " Text(0, 0, '61')]"
      ]
     },
     "execution_count": 11,
     "metadata": {},
     "output_type": "execute_result"
    },
    {
     "data": {
      "image/png": "[encoded data removed]",
      "text/plain": [
       "<Figure size 720x360 with 1 Axes>"
      ]
     },
     "metadata": {
      "needs_background": "light"
     },
     "output_type": "display_data"
    }
   ],
   "source": [
    "\n",
    "plt.figure(figsize=(10,5))\n",
    "edad = sns.countplot(\n",
    "    data=ENIF_sin_cuenta[ENIF_sin_cuenta['p5_7']==6],\n",
    "    x=\"edad\",\n",
    "    palette='Set1',\n",
    "    order = ENIF_sin_cuenta['edad'].value_counts().index\n",
    ")\n",
    "edad.set_xticklabels(edad.get_xticklabels(), rotation=90)\n"
   ]
  },
  {
   "cell_type": "code",
   "execution_count": 12,
   "metadata": {},
   "outputs": [
    {
     "data": {
      "text/html": [
       "<div>\n",
       "<style scoped>\n",
       "    .dataframe tbody tr th:only-of-type {\n",
       "        vertical-align: middle;\n",
       "    }\n",
       "\n",
       "    .dataframe tbody tr th {\n",
       "        vertical-align: top;\n",
       "    }\n",
       "\n",
       "    .dataframe thead th {\n",
       "        text-align: right;\n",
       "    }\n",
       "</style>\n",
       "<table border=\"1\" class=\"dataframe\">\n",
       "  <thead>\n",
       "    <tr style=\"text-align: right;\">\n",
       "      <th></th>\n",
       "      <th>upm</th>\n",
       "      <th>viv_sel</th>\n",
       "      <th>hogar</th>\n",
       "      <th>n_ren</th>\n",
       "      <th>p3_1</th>\n",
       "      <th>p3_2</th>\n",
       "      <th>p3_3</th>\n",
       "      <th>niv</th>\n",
       "      <th>gra</th>\n",
       "      <th>p3_5</th>\n",
       "      <th>...</th>\n",
       "      <th>p6_19_5</th>\n",
       "      <th>p6_19_6</th>\n",
       "      <th>p6_19_9</th>\n",
       "      <th>edad</th>\n",
       "      <th>sexo</th>\n",
       "      <th>region</th>\n",
       "      <th>tloc</th>\n",
       "      <th>est_dis</th>\n",
       "      <th>upm_dis</th>\n",
       "      <th>fac_per</th>\n",
       "    </tr>\n",
       "  </thead>\n",
       "  <tbody>\n",
       "    <tr>\n",
       "      <th>6</th>\n",
       "      <td>100217</td>\n",
       "      <td>4</td>\n",
       "      <td>1</td>\n",
       "      <td>1</td>\n",
       "      <td>1</td>\n",
       "      <td>6</td>\n",
       "      <td>0</td>\n",
       "      <td>2</td>\n",
       "      <td>3</td>\n",
       "      <td>1</td>\n",
       "      <td>...</td>\n",
       "      <td>NaN</td>\n",
       "      <td>NaN</td>\n",
       "      <td>NaN</td>\n",
       "      <td>51</td>\n",
       "      <td>1</td>\n",
       "      <td>3</td>\n",
       "      <td>1</td>\n",
       "      <td>3</td>\n",
       "      <td>4</td>\n",
       "      <td>1366</td>\n",
       "    </tr>\n",
       "    <tr>\n",
       "      <th>33</th>\n",
       "      <td>100446</td>\n",
       "      <td>1</td>\n",
       "      <td>1</td>\n",
       "      <td>4</td>\n",
       "      <td>5</td>\n",
       "      <td>1</td>\n",
       "      <td>6</td>\n",
       "      <td>3</td>\n",
       "      <td>3</td>\n",
       "      <td>1</td>\n",
       "      <td>...</td>\n",
       "      <td>NaN</td>\n",
       "      <td>NaN</td>\n",
       "      <td>NaN</td>\n",
       "      <td>20</td>\n",
       "      <td>1</td>\n",
       "      <td>3</td>\n",
       "      <td>1</td>\n",
       "      <td>3</td>\n",
       "      <td>12</td>\n",
       "      <td>3945</td>\n",
       "    </tr>\n",
       "    <tr>\n",
       "      <th>39</th>\n",
       "      <td>100451</td>\n",
       "      <td>2</td>\n",
       "      <td>1</td>\n",
       "      <td>3</td>\n",
       "      <td>3</td>\n",
       "      <td>6</td>\n",
       "      <td>1</td>\n",
       "      <td>6</td>\n",
       "      <td>3</td>\n",
       "      <td>1</td>\n",
       "      <td>...</td>\n",
       "      <td>NaN</td>\n",
       "      <td>NaN</td>\n",
       "      <td>NaN</td>\n",
       "      <td>32</td>\n",
       "      <td>1</td>\n",
       "      <td>3</td>\n",
       "      <td>1</td>\n",
       "      <td>3</td>\n",
       "      <td>13</td>\n",
       "      <td>4690</td>\n",
       "    </tr>\n",
       "    <tr>\n",
       "      <th>45</th>\n",
       "      <td>100483</td>\n",
       "      <td>3</td>\n",
       "      <td>1</td>\n",
       "      <td>3</td>\n",
       "      <td>3</td>\n",
       "      <td>5</td>\n",
       "      <td>2</td>\n",
       "      <td>8</td>\n",
       "      <td>4</td>\n",
       "      <td>8</td>\n",
       "      <td>...</td>\n",
       "      <td>NaN</td>\n",
       "      <td>NaN</td>\n",
       "      <td>NaN</td>\n",
       "      <td>30</td>\n",
       "      <td>1</td>\n",
       "      <td>3</td>\n",
       "      <td>1</td>\n",
       "      <td>4</td>\n",
       "      <td>14</td>\n",
       "      <td>2564</td>\n",
       "    </tr>\n",
       "    <tr>\n",
       "      <th>46</th>\n",
       "      <td>100483</td>\n",
       "      <td>4</td>\n",
       "      <td>1</td>\n",
       "      <td>1</td>\n",
       "      <td>2</td>\n",
       "      <td>5</td>\n",
       "      <td>0</td>\n",
       "      <td>7</td>\n",
       "      <td>3</td>\n",
       "      <td>8</td>\n",
       "      <td>...</td>\n",
       "      <td>NaN</td>\n",
       "      <td>NaN</td>\n",
       "      <td>NaN</td>\n",
       "      <td>26</td>\n",
       "      <td>2</td>\n",
       "      <td>3</td>\n",
       "      <td>1</td>\n",
       "      <td>4</td>\n",
       "      <td>14</td>\n",
       "      <td>2838</td>\n",
       "    </tr>\n",
       "  </tbody>\n",
       "</table>\n",
       "<p>5 rows × 222 columns</p>\n",
       "</div>"
      ],
      "text/plain": [
       "       upm  viv_sel  hogar  n_ren  p3_1  p3_2  p3_3  niv  gra  p3_5  ...  \\\n",
       "6   100217        4      1      1     1     6     0    2    3     1  ...   \n",
       "33  100446        1      1      4     5     1     6    3    3     1  ...   \n",
       "39  100451        2      1      3     3     6     1    6    3     1  ...   \n",
       "45  100483        3      1      3     3     5     2    8    4     8  ...   \n",
       "46  100483        4      1      1     2     5     0    7    3     8  ...   \n",
       "\n",
       "    p6_19_5  p6_19_6  p6_19_9  edad  sexo  region  tloc  est_dis  upm_dis  \\\n",
       "6       NaN      NaN      NaN    51     1       3     1        3        4   \n",
       "33      NaN      NaN      NaN    20     1       3     1        3       12   \n",
       "39      NaN      NaN      NaN    32     1       3     1        3       13   \n",
       "45      NaN      NaN      NaN    30     1       3     1        4       14   \n",
       "46      NaN      NaN      NaN    26     2       3     1        4       14   \n",
       "\n",
       "    fac_per  \n",
       "6      1366  \n",
       "33     3945  \n",
       "39     4690  \n",
       "45     2564  \n",
       "46     2838  \n",
       "\n",
       "[5 rows x 222 columns]"
      ]
     },
     "execution_count": 12,
     "metadata": {},
     "output_type": "execute_result"
    }
   ],
   "source": [
    "x = ENIF_sin_cuenta[ENIF_sin_cuenta['p5_7']==6]\n",
    "x.head()"
   ]
  },
  {
   "cell_type": "code",
   "execution_count": 13,
   "metadata": {},
   "outputs": [
    {
     "data": {
      "image/png": "[encoded data removed]",
      "text/plain": [
       "<Figure size 432x288 with 1 Axes>"
      ]
     },
     "metadata": {
      "needs_background": "light"
     },
     "output_type": "display_data"
    }
   ],
   "source": [
    "ax = sns.distplot(x['edad'])"
   ]
  },
  {
   "cell_type": "code",
   "execution_count": 3,
   "metadata": {},
   "outputs": [
    {
     "data": {
      "text/plain": [
       "2    4233\n",
       "1    2860\n",
       "Name: sexo, dtype: int64"
      ]
     },
     "execution_count": 3,
     "metadata": {},
     "output_type": "execute_result"
    }
   ],
   "source": [
    "ENIF_sin_cuenta['sexo'].value_counts()"
   ]
  },
  {
   "cell_type": "code",
   "execution_count": 14,
   "metadata": {},
   "outputs": [
    {
     "data": {
      "text/plain": [
       "[Text(0, 0, '2'), Text(0, 0, '1')]"
      ]
     },
     "execution_count": 14,
     "metadata": {},
     "output_type": "execute_result"
    },
    {
     "data": {
      "image/png": "[encoded data removed]",
      "text/plain": [
       "<Figure size 720x360 with 1 Axes>"
      ]
     },
     "metadata": {
      "needs_background": "light"
     },
     "output_type": "display_data"
    }
   ],
   "source": [
    "import matplotlib.pyplot as plt\n",
    "plt.figure(figsize=(10,5))\n",
    "sexo = sns.countplot(\n",
    "    data=ENIF_sin_cuenta,\n",
    "    x=\"sexo\",\n",
    "    palette='Set1',\n",
    "    order = ENIF_sin_cuenta['sexo'].value_counts().index\n",
    ")\n",
    "sexo.set_xticklabels(sexo.get_xticklabels(), rotation=90)"
   ]
  },
  {
   "cell_type": "code",
   "execution_count": null,
   "metadata": {},
   "outputs": [],
   "source": []
  },
  {
   "cell_type": "code",
   "execution_count": 7,
   "metadata": {},
   "outputs": [],
   "source": [
    "import seaborn as sns"
   ]
  },
  {
   "cell_type": "code",
   "execution_count": 10,
   "metadata": {},
   "outputs": [
    {
     "data": {
      "text/plain": [
       "[Text(0, 0, '2'), Text(0, 0, '1')]"
      ]
     },
     "execution_count": 10,
     "metadata": {},
     "output_type": "execute_result"
    },
    {
     "data": {
      "image/png": "[encoded data removed]",
      "text/plain": [
       "<Figure size 720x360 with 1 Axes>"
      ]
     },
     "metadata": {
      "needs_background": "light"
     },
     "output_type": "display_data"
    }
   ],
   "source": [
    "plt.figure(figsize=(10,5))\n",
    "sexo = sns.countplot(\n",
    "    data=ENIF_sin_cuenta[ENIF_sin_cuenta['p5_7']==7],\n",
    "    x=\"sexo\",\n",
    "    palette='Set1',\n",
    "    order = ENIF_sin_cuenta['sexo'].value_counts().index\n",
    ")\n",
    "sexo.set_xticklabels(sexo.get_xticklabels(), rotation=90)\n"
   ]
  },
  {
   "cell_type": "code",
   "execution_count": 15,
   "metadata": {},
   "outputs": [
    {
     "data": {
      "text/plain": [
       "[Text(0, 0, '18'),\n",
       " Text(0, 0, '32'),\n",
       " Text(0, 0, '40'),\n",
       " Text(0, 0, '38'),\n",
       " Text(0, 0, '33'),\n",
       " Text(0, 0, '30'),\n",
       " Text(0, 0, '23'),\n",
       " Text(0, 0, '42'),\n",
       " Text(0, 0, '19'),\n",
       " Text(0, 0, '27'),\n",
       " Text(0, 0, '28'),\n",
       " Text(0, 0, '25'),\n",
       " Text(0, 0, '35'),\n",
       " Text(0, 0, '34'),\n",
       " Text(0, 0, '20'),\n",
       " Text(0, 0, '24'),\n",
       " Text(0, 0, '53'),\n",
       " Text(0, 0, '48'),\n",
       " Text(0, 0, '39'),\n",
       " Text(0, 0, '37'),\n",
       " Text(0, 0, '21'),\n",
       " Text(0, 0, '43'),\n",
       " Text(0, 0, '45'),\n",
       " Text(0, 0, '36'),\n",
       " Text(0, 0, '50'),\n",
       " Text(0, 0, '22'),\n",
       " Text(0, 0, '47'),\n",
       " Text(0, 0, '44'),\n",
       " Text(0, 0, '52'),\n",
       " Text(0, 0, '41'),\n",
       " Text(0, 0, '29'),\n",
       " Text(0, 0, '49'),\n",
       " Text(0, 0, '46'),\n",
       " Text(0, 0, '31'),\n",
       " Text(0, 0, '60'),\n",
       " Text(0, 0, '26'),\n",
       " Text(0, 0, '55'),\n",
       " Text(0, 0, '58'),\n",
       " Text(0, 0, '65'),\n",
       " Text(0, 0, '54'),\n",
       " Text(0, 0, '56'),\n",
       " Text(0, 0, '59'),\n",
       " Text(0, 0, '57'),\n",
       " Text(0, 0, '51'),\n",
       " Text(0, 0, '62'),\n",
       " Text(0, 0, '63'),\n",
       " Text(0, 0, '68'),\n",
       " Text(0, 0, '64'),\n",
       " Text(0, 0, '67'),\n",
       " Text(0, 0, '69'),\n",
       " Text(0, 0, '66'),\n",
       " Text(0, 0, '70'),\n",
       " Text(0, 0, '61')]"
      ]
     },
     "execution_count": 15,
     "metadata": {},
     "output_type": "execute_result"
    },
    {
     "data": {
      "image/png": "[encoded data removed]",
      "text/plain": [
       "<Figure size 720x360 with 1 Axes>"
      ]
     },
     "metadata": {
      "needs_background": "light"
     },
     "output_type": "display_data"
    }
   ],
   "source": [
    "\n",
    "plt.figure(figsize=(10,5))\n",
    "edad = sns.countplot(\n",
    "    data=ENIF_sin_cuenta[ENIF_sin_cuenta['p5_7']==7],\n",
    "    x=\"edad\",\n",
    "    palette='Set1',\n",
    "    order = ENIF_sin_cuenta['edad'].value_counts().index\n",
    ")\n",
    "edad.set_xticklabels(edad.get_xticklabels(), rotation=90)\n"
   ]
  },
  {
   "cell_type": "code",
   "execution_count": 16,
   "metadata": {},
   "outputs": [
    {
     "data": {
      "text/html": [
       "<div>\n",
       "<style scoped>\n",
       "    .dataframe tbody tr th:only-of-type {\n",
       "        vertical-align: middle;\n",
       "    }\n",
       "\n",
       "    .dataframe tbody tr th {\n",
       "        vertical-align: top;\n",
       "    }\n",
       "\n",
       "    .dataframe thead th {\n",
       "        text-align: right;\n",
       "    }\n",
       "</style>\n",
       "<table border=\"1\" class=\"dataframe\">\n",
       "  <thead>\n",
       "    <tr style=\"text-align: right;\">\n",
       "      <th></th>\n",
       "      <th>upm</th>\n",
       "      <th>viv_sel</th>\n",
       "      <th>hogar</th>\n",
       "      <th>n_ren</th>\n",
       "      <th>p3_1</th>\n",
       "      <th>p3_2</th>\n",
       "      <th>p3_3</th>\n",
       "      <th>niv</th>\n",
       "      <th>gra</th>\n",
       "      <th>p3_5</th>\n",
       "      <th>...</th>\n",
       "      <th>p6_19_5</th>\n",
       "      <th>p6_19_6</th>\n",
       "      <th>p6_19_9</th>\n",
       "      <th>edad</th>\n",
       "      <th>sexo</th>\n",
       "      <th>region</th>\n",
       "      <th>tloc</th>\n",
       "      <th>est_dis</th>\n",
       "      <th>upm_dis</th>\n",
       "      <th>fac_per</th>\n",
       "    </tr>\n",
       "  </thead>\n",
       "  <tbody>\n",
       "    <tr>\n",
       "      <th>13</th>\n",
       "      <td>100261</td>\n",
       "      <td>5</td>\n",
       "      <td>1</td>\n",
       "      <td>3</td>\n",
       "      <td>5</td>\n",
       "      <td>5</td>\n",
       "      <td>0</td>\n",
       "      <td>6</td>\n",
       "      <td>3</td>\n",
       "      <td>8</td>\n",
       "      <td>...</td>\n",
       "      <td>NaN</td>\n",
       "      <td>NaN</td>\n",
       "      <td>NaN</td>\n",
       "      <td>32</td>\n",
       "      <td>2</td>\n",
       "      <td>3</td>\n",
       "      <td>1</td>\n",
       "      <td>4</td>\n",
       "      <td>6</td>\n",
       "      <td>1881</td>\n",
       "    </tr>\n",
       "    <tr>\n",
       "      <th>21</th>\n",
       "      <td>100320</td>\n",
       "      <td>3</td>\n",
       "      <td>1</td>\n",
       "      <td>3</td>\n",
       "      <td>3</td>\n",
       "      <td>6</td>\n",
       "      <td>2</td>\n",
       "      <td>2</td>\n",
       "      <td>6</td>\n",
       "      <td>1</td>\n",
       "      <td>...</td>\n",
       "      <td>NaN</td>\n",
       "      <td>NaN</td>\n",
       "      <td>NaN</td>\n",
       "      <td>59</td>\n",
       "      <td>1</td>\n",
       "      <td>3</td>\n",
       "      <td>1</td>\n",
       "      <td>4</td>\n",
       "      <td>9</td>\n",
       "      <td>3360</td>\n",
       "    </tr>\n",
       "    <tr>\n",
       "      <th>28</th>\n",
       "      <td>100340</td>\n",
       "      <td>5</td>\n",
       "      <td>1</td>\n",
       "      <td>4</td>\n",
       "      <td>3</td>\n",
       "      <td>1</td>\n",
       "      <td>1</td>\n",
       "      <td>3</td>\n",
       "      <td>3</td>\n",
       "      <td>3</td>\n",
       "      <td>...</td>\n",
       "      <td>NaN</td>\n",
       "      <td>NaN</td>\n",
       "      <td>NaN</td>\n",
       "      <td>37</td>\n",
       "      <td>1</td>\n",
       "      <td>3</td>\n",
       "      <td>1</td>\n",
       "      <td>4</td>\n",
       "      <td>10</td>\n",
       "      <td>2566</td>\n",
       "    </tr>\n",
       "    <tr>\n",
       "      <th>34</th>\n",
       "      <td>100446</td>\n",
       "      <td>2</td>\n",
       "      <td>1</td>\n",
       "      <td>3</td>\n",
       "      <td>3</td>\n",
       "      <td>3</td>\n",
       "      <td>1</td>\n",
       "      <td>3</td>\n",
       "      <td>1</td>\n",
       "      <td>1</td>\n",
       "      <td>...</td>\n",
       "      <td>NaN</td>\n",
       "      <td>NaN</td>\n",
       "      <td>NaN</td>\n",
       "      <td>25</td>\n",
       "      <td>1</td>\n",
       "      <td>3</td>\n",
       "      <td>1</td>\n",
       "      <td>3</td>\n",
       "      <td>12</td>\n",
       "      <td>2959</td>\n",
       "    </tr>\n",
       "    <tr>\n",
       "      <th>36</th>\n",
       "      <td>100446</td>\n",
       "      <td>4</td>\n",
       "      <td>1</td>\n",
       "      <td>2</td>\n",
       "      <td>2</td>\n",
       "      <td>5</td>\n",
       "      <td>0</td>\n",
       "      <td>2</td>\n",
       "      <td>5</td>\n",
       "      <td>1</td>\n",
       "      <td>...</td>\n",
       "      <td>NaN</td>\n",
       "      <td>NaN</td>\n",
       "      <td>NaN</td>\n",
       "      <td>57</td>\n",
       "      <td>2</td>\n",
       "      <td>3</td>\n",
       "      <td>1</td>\n",
       "      <td>3</td>\n",
       "      <td>12</td>\n",
       "      <td>2051</td>\n",
       "    </tr>\n",
       "  </tbody>\n",
       "</table>\n",
       "<p>5 rows × 222 columns</p>\n",
       "</div>"
      ],
      "text/plain": [
       "       upm  viv_sel  hogar  n_ren  p3_1  p3_2  p3_3  niv  gra  p3_5  ...  \\\n",
       "13  100261        5      1      3     5     5     0    6    3     8  ...   \n",
       "21  100320        3      1      3     3     6     2    2    6     1  ...   \n",
       "28  100340        5      1      4     3     1     1    3    3     3  ...   \n",
       "34  100446        2      1      3     3     3     1    3    1     1  ...   \n",
       "36  100446        4      1      2     2     5     0    2    5     1  ...   \n",
       "\n",
       "    p6_19_5  p6_19_6  p6_19_9  edad  sexo  region  tloc  est_dis  upm_dis  \\\n",
       "13      NaN      NaN      NaN    32     2       3     1        4        6   \n",
       "21      NaN      NaN      NaN    59     1       3     1        4        9   \n",
       "28      NaN      NaN      NaN    37     1       3     1        4       10   \n",
       "34      NaN      NaN      NaN    25     1       3     1        3       12   \n",
       "36      NaN      NaN      NaN    57     2       3     1        3       12   \n",
       "\n",
       "    fac_per  \n",
       "13     1881  \n",
       "21     3360  \n",
       "28     2566  \n",
       "34     2959  \n",
       "36     2051  \n",
       "\n",
       "[5 rows x 222 columns]"
      ]
     },
     "execution_count": 16,
     "metadata": {},
     "output_type": "execute_result"
    }
   ],
   "source": [
    "x = ENIF_sin_cuenta[ENIF_sin_cuenta['p5_7']==7]\n",
    "x.head()"
   ]
  },
  {
   "cell_type": "code",
   "execution_count": 17,
   "metadata": {},
   "outputs": [
    {
     "data": {
      "image/png": "[encoded data removed]",
      "text/plain": [
       "<Figure size 432x288 with 1 Axes>"
      ]
     },
     "metadata": {
      "needs_background": "light"
     },
     "output_type": "display_data"
    }
   ],
   "source": [
    "ax = sns.distplot(x['edad'])"
   ]
  },
  {
   "cell_type": "code",
   "execution_count": 18,
   "metadata": {},
   "outputs": [
    {
     "data": {
      "image/png": "[encoded data removed]",
      "text/plain": [
       "<Figure size 432x288 with 1 Axes>"
      ]
     },
     "metadata": {
      "needs_background": "light"
     },
     "output_type": "display_data"
    }
   ],
   "source": [
    "# cuanto gana: 'p3_8a' los que no les alcanza\n",
    "x = ENIF_sin_cuenta[ENIF_sin_cuenta['p5_7']==7]\n",
    "ax = sns.distplot(x['p3_8a'])"
   ]
  },
  {
   "cell_type": "code",
   "execution_count": 19,
   "metadata": {},
   "outputs": [
    {
     "data": {
      "text/plain": [
       "count     4214.000000\n",
       "mean      9603.114618\n",
       "std      26512.145212\n",
       "min          0.000000\n",
       "25%        700.000000\n",
       "50%       1200.000000\n",
       "75%       2100.000000\n",
       "max      99888.000000\n",
       "Name: p3_8a, dtype: float64"
      ]
     },
     "execution_count": 19,
     "metadata": {},
     "output_type": "execute_result"
    }
   ],
   "source": [
    "ENIF_sin_cuenta['p3_8a'].describe()"
   ]
  },
  {
   "cell_type": "code",
   "execution_count": 20,
   "metadata": {},
   "outputs": [
    {
     "data": {
      "text/plain": [
       "count      996.000000\n",
       "mean      6677.035141\n",
       "std      22191.381560\n",
       "min          0.000000\n",
       "25%        600.000000\n",
       "50%       1000.000000\n",
       "75%       1500.000000\n",
       "max      99888.000000\n",
       "Name: p3_8a, dtype: float64"
      ]
     },
     "execution_count": 20,
     "metadata": {},
     "output_type": "execute_result"
    }
   ],
   "source": [
    "x['p3_8a'].describe()"
   ]
  },
  {
   "cell_type": "code",
   "execution_count": 21,
   "metadata": {},
   "outputs": [
    {
     "ename": "NameError",
     "evalue": "name 'niv' is not defined",
     "output_type": "error",
     "traceback": [
      "\u001b[1;31m---------------------------------------------------------------------------\u001b[0m",
      "\u001b[1;31mNameError\u001b[0m                                 Traceback (most recent call last)",
      "\u001b[1;32m<ipython-input-21-e2bd146ec9f3>\u001b[0m in \u001b[0;36m<module>\u001b[1;34m\u001b[0m\n\u001b[0;32m      7\u001b[0m     \u001b[0morder\u001b[0m \u001b[1;33m=\u001b[0m \u001b[0mENIF_sin_cuenta\u001b[0m\u001b[1;33m[\u001b[0m\u001b[1;34m'niv'\u001b[0m\u001b[1;33m]\u001b[0m\u001b[1;33m.\u001b[0m\u001b[0mvalue_counts\u001b[0m\u001b[1;33m(\u001b[0m\u001b[1;33m)\u001b[0m\u001b[1;33m.\u001b[0m\u001b[0mindex\u001b[0m\u001b[1;33m\u001b[0m\u001b[1;33m\u001b[0m\u001b[0m\n\u001b[0;32m      8\u001b[0m )\n\u001b[1;32m----> 9\u001b[1;33m \u001b[0mniv\u001b[0m\u001b[1;33m.\u001b[0m\u001b[0mset_xticklabels\u001b[0m\u001b[1;33m(\u001b[0m\u001b[0mniv\u001b[0m\u001b[1;33m.\u001b[0m\u001b[0mget_xticklabels\u001b[0m\u001b[1;33m(\u001b[0m\u001b[1;33m)\u001b[0m\u001b[1;33m,\u001b[0m \u001b[0mrotation\u001b[0m\u001b[1;33m=\u001b[0m\u001b[1;36m90\u001b[0m\u001b[1;33m)\u001b[0m\u001b[1;33m\u001b[0m\u001b[1;33m\u001b[0m\u001b[0m\n\u001b[0m",
      "\u001b[1;31mNameError\u001b[0m: name 'niv' is not defined"
     ]
    },
    {
     "data": {
      "image/png": "[encoded data removed]",
      "text/plain": [
       "<Figure size 720x360 with 1 Axes>"
      ]
     },
     "metadata": {
      "needs_background": "light"
     },
     "output_type": "display_data"
    }
   ],
   "source": [
    "import matplotlib.pyplot as plt\n",
    "plt.figure(figsize=(10,5))\n",
    "educacion = sns.countplot(\n",
    "    data=ENIF_sin_cuenta,\n",
    "    x=\"niv\",\n",
    "    palette='Set1',\n",
    "    order = ENIF_sin_cuenta['niv'].value_counts().index\n",
    ")\n",
    "niv.set_xticklabels(niv.get_xticklabels(), rotation=90)"
   ]
  },
  {
   "cell_type": "code",
   "execution_count": null,
   "metadata": {},
   "outputs": [],
   "source": [
    "# Es una mujer de 18 años, nivel educativo primaria, que no tiene cuenta porque no le alcanza."
   ]
  },
  {
   "cell_type": "markdown",
   "metadata": {},
   "source": [
    "\n",
    "# Tarjeta de crédito, credito bancario, departamental, tienda de autoservicio\n"
   ]
  },
  {
   "cell_type": "markdown",
   "metadata": {},
   "source": [
    "p6_3 Pregunta 6.3 ¿Usted tiene algún crédito bancario, tarjeta de crédito bancaria, departamental, de tienda de autoservicio o con alguna otra institución financiera?"
   ]
  },
  {
   "cell_type": "code",
   "execution_count": 3,
   "metadata": {},
   "outputs": [
    {
     "data": {
      "text/plain": [
       "2    8866\n",
       "1    3580\n",
       "Name: p6_3, dtype: int64"
      ]
     },
     "execution_count": 3,
     "metadata": {},
     "output_type": "execute_result"
    }
   ],
   "source": [
    "ENIF_MODULO['p6_3'].value_counts()"
   ]
  },
  {
   "cell_type": "code",
   "execution_count": 4,
   "metadata": {},
   "outputs": [],
   "source": [
    "sin_credito = ENIF_MODULO['p6_3']==2"
   ]
  },
  {
   "cell_type": "code",
   "execution_count": 5,
   "metadata": {},
   "outputs": [],
   "source": [
    "ENIF_MODULO_sincredito = ENIF_MODULO[sin_credito]"
   ]
  },
  {
   "cell_type": "code",
   "execution_count": 6,
   "metadata": {},
   "outputs": [
    {
     "data": {
      "text/plain": [
       "7.0    2212\n",
       "1.0    1635\n",
       "6.0    1633\n",
       "5.0     624\n",
       "4.0     261\n",
       "8.0     107\n",
       "2.0      98\n",
       "3.0      91\n",
       "Name: p6_6, dtype: int64"
      ]
     },
     "execution_count": 6,
     "metadata": {},
     "output_type": "execute_result"
    }
   ],
   "source": [
    "ENIF_MODULO_sincredito['p6_6'].value_counts()"
   ]
  },
  {
   "cell_type": "markdown",
   "metadata": {},
   "source": [
    "Valor\tCategoría\n",
    "1\tNo cumple con los requisitos (no tiene trabajo, ingresos insuficientes)\n",
    "2\tLa sucursal le queda lejos o no hay\n",
    "3\tCree que lo van a rechazar\n",
    "4\tNo confía en las instituciones financieras o le dan mal servicio\n",
    "5\tLos intereses o comisiones son altas\n",
    "6\tNo le interesa o no lo necesita\n",
    "7\tNo le gusta endeudarse\n",
    "8\tOtro"
   ]
  },
  {
   "cell_type": "code",
   "execution_count": 9,
   "metadata": {},
   "outputs": [
    {
     "ename": "NameError",
     "evalue": "name 'p6_6' is not defined",
     "output_type": "error",
     "traceback": [
      "\u001b[1;31m---------------------------------------------------------------------------\u001b[0m",
      "\u001b[1;31mNameError\u001b[0m                                 Traceback (most recent call last)",
      "\u001b[1;32m<ipython-input-9-251a607829bc>\u001b[0m in \u001b[0;36m<module>\u001b[1;34m\u001b[0m\n\u001b[0;32m      8\u001b[0m     \u001b[0morder\u001b[0m \u001b[1;33m=\u001b[0m \u001b[0mENIF_MODULO_sincredito\u001b[0m\u001b[1;33m[\u001b[0m\u001b[1;34m'p6_6'\u001b[0m\u001b[1;33m]\u001b[0m\u001b[1;33m.\u001b[0m\u001b[0mvalue_counts\u001b[0m\u001b[1;33m(\u001b[0m\u001b[1;33m)\u001b[0m\u001b[1;33m.\u001b[0m\u001b[0mindex\u001b[0m\u001b[1;33m\u001b[0m\u001b[1;33m\u001b[0m\u001b[0m\n\u001b[0;32m      9\u001b[0m )\n\u001b[1;32m---> 10\u001b[1;33m \u001b[0mp6_6\u001b[0m\u001b[1;33m.\u001b[0m\u001b[0mset_xticklabels\u001b[0m\u001b[1;33m(\u001b[0m\u001b[0mniv\u001b[0m\u001b[1;33m.\u001b[0m\u001b[0mget_xticklabels\u001b[0m\u001b[1;33m(\u001b[0m\u001b[1;33m)\u001b[0m\u001b[1;33m,\u001b[0m \u001b[0mrotation\u001b[0m\u001b[1;33m=\u001b[0m\u001b[1;36m90\u001b[0m\u001b[1;33m)\u001b[0m\u001b[1;33m\u001b[0m\u001b[1;33m\u001b[0m\u001b[0m\n\u001b[0m",
      "\u001b[1;31mNameError\u001b[0m: name 'p6_6' is not defined"
     ]
    },
    {
     "data": {
      "image/png": "[encoded data removed]",
      "text/plain": [
       "<Figure size 720x360 with 1 Axes>"
      ]
     },
     "metadata": {
      "needs_background": "light"
     },
     "output_type": "display_data"
    }
   ],
   "source": [
    "import matplotlib.pyplot as plt\n",
    "import seaborn as sns\n",
    "plt.figure(figsize=(10,5))\n",
    "educacion = sns.countplot(\n",
    "    data=ENIF_MODULO_sincredito,\n",
    "    x=\"p6_6\",\n",
    "    palette='Set1',\n",
    "    order = ENIF_MODULO_sincredito['p6_6'].value_counts().index\n",
    ")\n",
    "ENIF_MODULO_sincredito['p6_6'].set_xticklabels(niv.get_xticklabels(), rotation=90)"
   ]
  },
  {
   "cell_type": "code",
   "execution_count": 10,
   "metadata": {},
   "outputs": [
    {
     "data": {
      "text/plain": [
       "[Text(0, 0, '18'),\n",
       " Text(1, 0, '42'),\n",
       " Text(2, 0, '30'),\n",
       " Text(3, 0, '32'),\n",
       " Text(4, 0, '40'),\n",
       " Text(5, 0, '27'),\n",
       " Text(6, 0, '38'),\n",
       " Text(7, 0, '35'),\n",
       " Text(8, 0, '25'),\n",
       " Text(9, 0, '28'),\n",
       " Text(10, 0, '23'),\n",
       " Text(11, 0, '34'),\n",
       " Text(12, 0, '19'),\n",
       " Text(13, 0, '48'),\n",
       " Text(14, 0, '24'),\n",
       " Text(15, 0, '33'),\n",
       " Text(16, 0, '45'),\n",
       " Text(17, 0, '37'),\n",
       " Text(18, 0, '39'),\n",
       " Text(19, 0, '43'),\n",
       " Text(20, 0, '22'),\n",
       " Text(21, 0, '50'),\n",
       " Text(22, 0, '47'),\n",
       " Text(23, 0, '20'),\n",
       " Text(24, 0, '53'),\n",
       " Text(25, 0, '21'),\n",
       " Text(26, 0, '29'),\n",
       " Text(27, 0, '46'),\n",
       " Text(28, 0, '36'),\n",
       " Text(29, 0, '26'),\n",
       " Text(30, 0, '31'),\n",
       " Text(31, 0, '44'),\n",
       " Text(32, 0, '41'),\n",
       " Text(33, 0, '60'),\n",
       " Text(34, 0, '52'),\n",
       " Text(35, 0, '49'),\n",
       " Text(36, 0, '58'),\n",
       " Text(37, 0, '55'),\n",
       " Text(38, 0, '54'),\n",
       " Text(39, 0, '65'),\n",
       " Text(40, 0, '57'),\n",
       " Text(41, 0, '56'),\n",
       " Text(42, 0, '59'),\n",
       " Text(43, 0, '64'),\n",
       " Text(44, 0, '62'),\n",
       " Text(45, 0, '63'),\n",
       " Text(46, 0, '68'),\n",
       " Text(47, 0, '51'),\n",
       " Text(48, 0, '67'),\n",
       " Text(49, 0, '70'),\n",
       " Text(50, 0, '69'),\n",
       " Text(51, 0, '66'),\n",
       " Text(52, 0, '61')]"
      ]
     },
     "execution_count": 10,
     "metadata": {},
     "output_type": "execute_result"
    },
    {
     "data": {
      "image/png": "[encoded data removed]",
      "text/plain": [
       "<Figure size 720x360 with 1 Axes>"
      ]
     },
     "metadata": {
      "needs_background": "light"
     },
     "output_type": "display_data"
    }
   ],
   "source": [
    "\n",
    "plt.figure(figsize=(10,5))\n",
    "edad = sns.countplot(\n",
    "    data=ENIF_MODULO_sincredito,\n",
    "    x=\"edad\",\n",
    "    palette='Set1',\n",
    "    order = ENIF_MODULO_sincredito['edad'].value_counts().index\n",
    ")\n",
    "edad.set_xticklabels(edad.get_xticklabels(), rotation=90)\n"
   ]
  },
  {
   "cell_type": "code",
   "execution_count": 11,
   "metadata": {},
   "outputs": [
    {
     "data": {
      "text/plain": [
       "[Text(0, 0, '18'),\n",
       " Text(1, 0, '42'),\n",
       " Text(2, 0, '30'),\n",
       " Text(3, 0, '32'),\n",
       " Text(4, 0, '40'),\n",
       " Text(5, 0, '27'),\n",
       " Text(6, 0, '38'),\n",
       " Text(7, 0, '35'),\n",
       " Text(8, 0, '25'),\n",
       " Text(9, 0, '28'),\n",
       " Text(10, 0, '23'),\n",
       " Text(11, 0, '34'),\n",
       " Text(12, 0, '19'),\n",
       " Text(13, 0, '48'),\n",
       " Text(14, 0, '24'),\n",
       " Text(15, 0, '33'),\n",
       " Text(16, 0, '45'),\n",
       " Text(17, 0, '37'),\n",
       " Text(18, 0, '39'),\n",
       " Text(19, 0, '43'),\n",
       " Text(20, 0, '22'),\n",
       " Text(21, 0, '50'),\n",
       " Text(22, 0, '47'),\n",
       " Text(23, 0, '20'),\n",
       " Text(24, 0, '53'),\n",
       " Text(25, 0, '21'),\n",
       " Text(26, 0, '29'),\n",
       " Text(27, 0, '46'),\n",
       " Text(28, 0, '36'),\n",
       " Text(29, 0, '26'),\n",
       " Text(30, 0, '31'),\n",
       " Text(31, 0, '44'),\n",
       " Text(32, 0, '41'),\n",
       " Text(33, 0, '60'),\n",
       " Text(34, 0, '52'),\n",
       " Text(35, 0, '49'),\n",
       " Text(36, 0, '58'),\n",
       " Text(37, 0, '55'),\n",
       " Text(38, 0, '54'),\n",
       " Text(39, 0, '65'),\n",
       " Text(40, 0, '57'),\n",
       " Text(41, 0, '56'),\n",
       " Text(42, 0, '59'),\n",
       " Text(43, 0, '64'),\n",
       " Text(44, 0, '62'),\n",
       " Text(45, 0, '63'),\n",
       " Text(46, 0, '68'),\n",
       " Text(47, 0, '51'),\n",
       " Text(48, 0, '67'),\n",
       " Text(49, 0, '70'),\n",
       " Text(50, 0, '69'),\n",
       " Text(51, 0, '66'),\n",
       " Text(52, 0, '61')]"
      ]
     },
     "execution_count": 11,
     "metadata": {},
     "output_type": "execute_result"
    },
    {
     "data": {
      "image/png": "[encoded data removed]",
      "text/plain": [
       "<Figure size 720x360 with 1 Axes>"
      ]
     },
     "metadata": {
      "needs_background": "light"
     },
     "output_type": "display_data"
    }
   ],
   "source": [
    "\n",
    "plt.figure(figsize=(10,5))\n",
    "edad = sns.countplot(\n",
    "    data=ENIF_MODULO_sincredito[ENIF_MODULO_sincredito['p6_6']==7],\n",
    "    x=\"edad\",\n",
    "    palette='Set1',\n",
    "    order = ENIF_MODULO_sincredito['edad'].value_counts().index\n",
    ")\n",
    "edad.set_xticklabels(edad.get_xticklabels(), rotation=90)\n"
   ]
  },
  {
   "cell_type": "code",
   "execution_count": 12,
   "metadata": {},
   "outputs": [
    {
     "data": {
      "image/png": "[encoded data removed]",
      "text/plain": [
       "<Figure size 432x288 with 1 Axes>"
      ]
     },
     "metadata": {
      "needs_background": "light"
     },
     "output_type": "display_data"
    }
   ],
   "source": [
    "x = ENIF_MODULO_sincredito[ENIF_MODULO_sincredito['p6_6']==7]\n",
    "\n",
    "ax = sns.distplot(x['edad'])"
   ]
  },
  {
   "cell_type": "code",
   "execution_count": 16,
   "metadata": {},
   "outputs": [
    {
     "data": {
      "image/png": "[encoded data removed]",
      "text/plain": [
       "<Figure size 720x360 with 1 Axes>"
      ]
     },
     "metadata": {
      "needs_background": "light"
     },
     "output_type": "display_data"
    }
   ],
   "source": [
    "plt.figure(figsize=(10,5))\n",
    "sexo = sns.countplot(\n",
    "    data=ENIF_MODULO_sincredito,\n",
    "    x=\"sexo\",\n",
    "    palette='Set1',\n",
    "    order = ENIF_MODULO_sincredito['sexo'].value_counts().index\n",
    ")\n"
   ]
  },
  {
   "cell_type": "code",
   "execution_count": 15,
   "metadata": {},
   "outputs": [
    {
     "data": {
      "text/plain": [
       "[Text(0, 0, '2'), Text(1, 0, '1')]"
      ]
     },
     "execution_count": 15,
     "metadata": {},
     "output_type": "execute_result"
    }
   ],
   "source": [
    "sexo.set_xticklabels(sexo.get_xticklabels(), rotation=90)\n"
   ]
  },
  {
   "cell_type": "code",
   "execution_count": 17,
   "metadata": {},
   "outputs": [
    {
     "ename": "NameError",
     "evalue": "name 'niv' is not defined",
     "output_type": "error",
     "traceback": [
      "\u001b[1;31m---------------------------------------------------------------------------\u001b[0m",
      "\u001b[1;31mNameError\u001b[0m                                 Traceback (most recent call last)",
      "\u001b[1;32m<ipython-input-17-aeb5b58aca1e>\u001b[0m in \u001b[0;36m<module>\u001b[1;34m\u001b[0m\n\u001b[0;32m      7\u001b[0m     \u001b[0morder\u001b[0m \u001b[1;33m=\u001b[0m \u001b[0mENIF_MODULO_sincredito\u001b[0m\u001b[1;33m[\u001b[0m\u001b[1;34m'niv'\u001b[0m\u001b[1;33m]\u001b[0m\u001b[1;33m.\u001b[0m\u001b[0mvalue_counts\u001b[0m\u001b[1;33m(\u001b[0m\u001b[1;33m)\u001b[0m\u001b[1;33m.\u001b[0m\u001b[0mindex\u001b[0m\u001b[1;33m\u001b[0m\u001b[1;33m\u001b[0m\u001b[0m\n\u001b[0;32m      8\u001b[0m )\n\u001b[1;32m----> 9\u001b[1;33m \u001b[0mniv\u001b[0m\u001b[1;33m.\u001b[0m\u001b[0mset_xticklabels\u001b[0m\u001b[1;33m(\u001b[0m\u001b[0mniv\u001b[0m\u001b[1;33m.\u001b[0m\u001b[0mget_xticklabels\u001b[0m\u001b[1;33m(\u001b[0m\u001b[1;33m)\u001b[0m\u001b[1;33m,\u001b[0m \u001b[0mrotation\u001b[0m\u001b[1;33m=\u001b[0m\u001b[1;36m90\u001b[0m\u001b[1;33m)\u001b[0m\u001b[1;33m\u001b[0m\u001b[1;33m\u001b[0m\u001b[0m\n\u001b[0m",
      "\u001b[1;31mNameError\u001b[0m: name 'niv' is not defined"
     ]
    },
    {
     "data": {
      "image/png": "[encoded data removed]",
      "text/plain": [
       "<Figure size 720x360 with 1 Axes>"
      ]
     },
     "metadata": {
      "needs_background": "light"
     },
     "output_type": "display_data"
    }
   ],
   "source": [
    "\n",
    "plt.figure(figsize=(10,5))\n",
    "educacion = sns.countplot(\n",
    "    data=ENIF_MODULO_sincredito,\n",
    "    x=\"niv\",\n",
    "    palette='Set1',\n",
    "    order = ENIF_MODULO_sincredito['niv'].value_counts().index\n",
    ")\n",
    "niv.set_xticklabels(niv.get_xticklabels(), rotation=90)"
   ]
  },
  {
   "cell_type": "code",
   "execution_count": 18,
   "metadata": {},
   "outputs": [
    {
     "ename": "NameError",
     "evalue": "name 'niv' is not defined",
     "output_type": "error",
     "traceback": [
      "\u001b[1;31m---------------------------------------------------------------------------\u001b[0m",
      "\u001b[1;31mNameError\u001b[0m                                 Traceback (most recent call last)",
      "\u001b[1;32m<ipython-input-18-e030c45c629d>\u001b[0m in \u001b[0;36m<module>\u001b[1;34m\u001b[0m\n\u001b[0;32m      6\u001b[0m     \u001b[0morder\u001b[0m \u001b[1;33m=\u001b[0m \u001b[0mENIF_MODULO_sincredito\u001b[0m\u001b[1;33m[\u001b[0m\u001b[1;34m'niv'\u001b[0m\u001b[1;33m]\u001b[0m\u001b[1;33m.\u001b[0m\u001b[0mvalue_counts\u001b[0m\u001b[1;33m(\u001b[0m\u001b[1;33m)\u001b[0m\u001b[1;33m.\u001b[0m\u001b[0mindex\u001b[0m\u001b[1;33m\u001b[0m\u001b[1;33m\u001b[0m\u001b[0m\n\u001b[0;32m      7\u001b[0m )\n\u001b[1;32m----> 8\u001b[1;33m \u001b[0mniv\u001b[0m\u001b[1;33m.\u001b[0m\u001b[0mset_xticklabels\u001b[0m\u001b[1;33m(\u001b[0m\u001b[0mniv\u001b[0m\u001b[1;33m.\u001b[0m\u001b[0mget_xticklabels\u001b[0m\u001b[1;33m(\u001b[0m\u001b[1;33m)\u001b[0m\u001b[1;33m,\u001b[0m \u001b[0mrotation\u001b[0m\u001b[1;33m=\u001b[0m\u001b[1;36m90\u001b[0m\u001b[1;33m)\u001b[0m\u001b[1;33m\u001b[0m\u001b[1;33m\u001b[0m\u001b[0m\n\u001b[0m",
      "\u001b[1;31mNameError\u001b[0m: name 'niv' is not defined"
     ]
    },
    {
     "data": {
      "image/png": "[encoded data removed]",
      "text/plain": [
       "<Figure size 720x360 with 1 Axes>"
      ]
     },
     "metadata": {
      "needs_background": "light"
     },
     "output_type": "display_data"
    }
   ],
   "source": [
    "\n",
    "plt.figure(figsize=(10,5))\n",
    "educacion = sns.countplot(\n",
    "    data=ENIF_MODULO_sincredito[ENIF_MODULO_sincredito['p6_6']==7],\n",
    "    x=\"niv\",\n",
    "    palette='Set1',\n",
    "    order = ENIF_MODULO_sincredito['niv'].value_counts().index\n",
    ")\n",
    "niv.set_xticklabels(niv.get_xticklabels(), rotation=90)"
   ]
  },
  {
   "cell_type": "code",
   "execution_count": 19,
   "metadata": {},
   "outputs": [],
   "source": [
    "x = ENIF_MODULO_sincredito[ENIF_MODULO_sincredito['p6_6']==7]"
   ]
  },
  {
   "cell_type": "code",
   "execution_count": 20,
   "metadata": {},
   "outputs": [
    {
     "data": {
      "text/plain": [
       "2    711\n",
       "3    678\n",
       "6    285\n",
       "8    230\n",
       "0    142\n",
       "7     90\n",
       "4     49\n",
       "9     11\n",
       "5     11\n",
       "1      5\n",
       "Name: niv, dtype: int64"
      ]
     },
     "execution_count": 20,
     "metadata": {},
     "output_type": "execute_result"
    }
   ],
   "source": [
    "x['niv'].value_counts()"
   ]
  },
  {
   "cell_type": "code",
   "execution_count": 21,
   "metadata": {},
   "outputs": [
    {
     "data": {
      "text/plain": [
       "3     2661\n",
       "2     2334\n",
       "6     1313\n",
       "8     1263\n",
       "7      470\n",
       "0      439\n",
       "4      211\n",
       "9      101\n",
       "5       36\n",
       "1       32\n",
       "99       6\n",
       "Name: niv, dtype: int64"
      ]
     },
     "execution_count": 21,
     "metadata": {},
     "output_type": "execute_result"
    }
   ],
   "source": [
    "ENIF_MODULO_sincredito['niv'].value_counts()"
   ]
  },
  {
   "cell_type": "code",
   "execution_count": 3,
   "metadata": {},
   "outputs": [
    {
     "data": {
      "text/plain": [
       "['upm',\n",
       " 'viv_sel',\n",
       " 'hogar',\n",
       " 'n_ren',\n",
       " 'p3_1',\n",
       " 'p3_2',\n",
       " 'p3_3',\n",
       " 'niv',\n",
       " 'gra',\n",
       " 'p3_5',\n",
       " 'p3_6',\n",
       " 'p3_7',\n",
       " 'p3_8a',\n",
       " 'p3_8b',\n",
       " 'p3_9',\n",
       " 'p3_10_1',\n",
       " 'p3_10_2',\n",
       " 'p3_10_3',\n",
       " 'p3_10_4',\n",
       " 'p3_10_5',\n",
       " 'p3_11',\n",
       " 'p3_12',\n",
       " 'p4_1',\n",
       " 'p4_2',\n",
       " 'p4_3',\n",
       " 'p4_4_1',\n",
       " 'p4_4_2',\n",
       " 'p4_4_3',\n",
       " 'p4_4_4',\n",
       " 'p4_4_5',\n",
       " 'p4_4_6',\n",
       " 'p4_4_7',\n",
       " 'p4_5',\n",
       " 'p4_6_1',\n",
       " 'p4_6_2',\n",
       " 'p4_6_3',\n",
       " 'p4_6_4',\n",
       " 'p4_6_5',\n",
       " 'p4_6_6',\n",
       " 'p4_7',\n",
       " 'p4_8_1',\n",
       " 'p4_8_2',\n",
       " 'p4_8_3',\n",
       " 'p4_8_4',\n",
       " 'p4_9_1',\n",
       " 'p4_9_2',\n",
       " 'p4_9_3',\n",
       " 'p5_1_1',\n",
       " 'p5_1_2',\n",
       " 'p5_1_3',\n",
       " 'p5_1_4',\n",
       " 'p5_1_5',\n",
       " 'p5_1_6',\n",
       " 'p5_2_1',\n",
       " 'p5_2_2',\n",
       " 'p5_2_3',\n",
       " 'p5_2_4',\n",
       " 'p5_2_5',\n",
       " 'p5_2_6',\n",
       " 'p5_2_7',\n",
       " 'p5_2_8',\n",
       " 'p5_2_9',\n",
       " 'p5_3',\n",
       " 'p5_4',\n",
       " 'p5_5',\n",
       " 'p5_6',\n",
       " 'p5_7',\n",
       " 'p5_8',\n",
       " 'p5_9_1',\n",
       " 'p5_10_1',\n",
       " 'p5_11_1',\n",
       " 'p5_12_1',\n",
       " 'p5_13_1',\n",
       " 'p5_9_2',\n",
       " 'p5_10_2',\n",
       " 'p5_11_2',\n",
       " 'p5_12_2',\n",
       " 'p5_13_2',\n",
       " 'p5_9_3',\n",
       " 'p5_10_3',\n",
       " 'p5_11_3',\n",
       " 'p5_12_3',\n",
       " 'p5_13_3',\n",
       " 'p5_9_4',\n",
       " 'p5_10_4',\n",
       " 'p5_11_4',\n",
       " 'p5_12_4',\n",
       " 'p5_13_4',\n",
       " 'p5_9_5',\n",
       " 'p5_10_5',\n",
       " 'p5_11_5',\n",
       " 'p5_12_5',\n",
       " 'p5_13_5',\n",
       " 'p5_9_6',\n",
       " 'p5_10_6',\n",
       " 'p5_11_6',\n",
       " 'p5_13_6',\n",
       " 'p5_9_7',\n",
       " 'p5_10_7',\n",
       " 'p5_11_7',\n",
       " 'p5_13_7',\n",
       " 'p5_9_8',\n",
       " 'p5_10_8',\n",
       " 'p5_11_8',\n",
       " 'p5_13_8',\n",
       " 'p5_14_1',\n",
       " 'p5_14_2',\n",
       " 'p5_14_3',\n",
       " 'p5_14_4',\n",
       " 'p5_14_5',\n",
       " 'p5_14_6',\n",
       " 'p5_14_7',\n",
       " 'p5_14_8',\n",
       " 'p5_14_9',\n",
       " 'p5_15',\n",
       " 'p5_16',\n",
       " 'p5_17',\n",
       " 'p5_18',\n",
       " 'p5_19',\n",
       " 'p5_20',\n",
       " 'p5_21',\n",
       " 'p5_22_1',\n",
       " 'p5_22_2',\n",
       " 'p5_22_3',\n",
       " 'p5_22_4',\n",
       " 'p5_22_5',\n",
       " 'p5_23',\n",
       " 'p5_24',\n",
       " 'p5_25_1',\n",
       " 'p5_25_2',\n",
       " 'p5_25_3',\n",
       " 'p5_25_4',\n",
       " 'p5_25_5',\n",
       " 'p5_26',\n",
       " 'p5_27',\n",
       " 'p5_28',\n",
       " 'p5_29',\n",
       " 'p5_30',\n",
       " 'p6_1_1',\n",
       " 'p6_1_2',\n",
       " 'p6_1_3',\n",
       " 'p6_1_4',\n",
       " 'p6_1_5',\n",
       " 'p6_2_1',\n",
       " 'p6_2_2',\n",
       " 'p6_2_3',\n",
       " 'p6_2_4',\n",
       " 'p6_2_5',\n",
       " 'p6_2_6',\n",
       " 'p6_2_7',\n",
       " 'p6_2_8',\n",
       " 'p6_2_9',\n",
       " 'p6_3',\n",
       " 'p6_4',\n",
       " 'p6_5',\n",
       " 'p6_6',\n",
       " 'p6_7',\n",
       " 'p6_8_1',\n",
       " 'p6_9_1',\n",
       " 'p6_10_1',\n",
       " 'p6_10a_1',\n",
       " 'p6_8_2',\n",
       " 'p6_9_2',\n",
       " 'p6_10_2',\n",
       " 'p6_10a_2',\n",
       " 'p6_8_3',\n",
       " 'p6_9_3',\n",
       " 'p6_10_3',\n",
       " 'p6_10a_3',\n",
       " 'p6_8_4',\n",
       " 'p6_9_4',\n",
       " 'p6_10_4',\n",
       " 'p6_10a_4',\n",
       " 'p6_8_5',\n",
       " 'p6_9_5',\n",
       " 'p6_10_5',\n",
       " 'p6_10a_5',\n",
       " 'p6_8_6',\n",
       " 'p6_9_6',\n",
       " 'p6_10_6',\n",
       " 'p6_10a_6',\n",
       " 'p6_8_7',\n",
       " 'p6_9_7',\n",
       " 'p6_10_7',\n",
       " 'p6_10a_7',\n",
       " 'p6_8_8',\n",
       " 'p6_11_1',\n",
       " 'p6_11_2',\n",
       " 'p6_11_3',\n",
       " 'p6_12_1',\n",
       " 'p6_12_2',\n",
       " 'p6_12_3',\n",
       " 'p6_12_4',\n",
       " 'p6_12_5',\n",
       " 'p6_12_6',\n",
       " 'p6_12_7',\n",
       " 'p6_12_8',\n",
       " 'p6_12_9',\n",
       " 'p6_13',\n",
       " 'p6_14',\n",
       " 'p6_15',\n",
       " 'p6_16',\n",
       " 'p6_17_1',\n",
       " 'p6_17_2',\n",
       " 'p6_17_3',\n",
       " 'p6_17_4',\n",
       " 'p6_17_5',\n",
       " 'p6_18',\n",
       " 'p6_19_1',\n",
       " 'p6_19_2',\n",
       " 'p6_19_3',\n",
       " 'p6_19_4',\n",
       " 'p6_19_5',\n",
       " 'p6_19_6',\n",
       " 'p6_19_9',\n",
       " 'edad',\n",
       " 'sexo',\n",
       " 'region',\n",
       " 'tloc',\n",
       " 'est_dis',\n",
       " 'upm_dis',\n",
       " 'fac_per']"
      ]
     },
     "execution_count": 3,
     "metadata": {},
     "output_type": "execute_result"
    }
   ],
   "source": [
    "list(ENIF_MODULO.columns)"
   ]
  },
  {
   "cell_type": "markdown",
   "metadata": {},
   "source": [
    "# Credito de vivienda"
   ]
  },
  {
   "cell_type": "code",
   "execution_count": 5,
   "metadata": {},
   "outputs": [],
   "source": [
    "# 6.8.6 #usuarios de credito pero que no tienen credito hipotecario\n",
    "sin_credito_hipotecario = ENIF_MODULO['p6_8_6']==2\n",
    "ENIF_MODULO_sincredito=ENIF_MODULO[sin_credito_hipotecario]"
   ]
  },
  {
   "cell_type": "code",
   "execution_count": 11,
   "metadata": {},
   "outputs": [
    {
     "data": {
      "text/plain": [
       "(3096, 222)"
      ]
     },
     "execution_count": 11,
     "metadata": {},
     "output_type": "execute_result"
    }
   ],
   "source": [
    "ENIF_MODULO_sincredito.shape"
   ]
  },
  {
   "cell_type": "code",
   "execution_count": 12,
   "metadata": {},
   "outputs": [
    {
     "data": {
      "text/plain": [
       "(12446, 222)"
      ]
     },
     "execution_count": 12,
     "metadata": {},
     "output_type": "execute_result"
    }
   ],
   "source": [
    "ENIF_MODULO.shape"
   ]
  },
  {
   "cell_type": "code",
   "execution_count": 13,
   "metadata": {},
   "outputs": [],
   "source": [
    "#usuarios que no tienen credito hipotecario\n",
    "sin_credito_hipotecario_2 = ENIF_MODULO['p6_4']==2\n",
    "ENIF_MODULO_sincredito_2=ENIF_MODULO[sin_credito_hipotecario_2]"
   ]
  },
  {
   "cell_type": "code",
   "execution_count": 14,
   "metadata": {},
   "outputs": [
    {
     "ename": "NameError",
     "evalue": "name 'niv' is not defined",
     "output_type": "error",
     "traceback": [
      "\u001b[1;31m---------------------------------------------------------------------------\u001b[0m",
      "\u001b[1;31mNameError\u001b[0m                                 Traceback (most recent call last)",
      "\u001b[1;32m<ipython-input-14-5fdc256cdf88>\u001b[0m in \u001b[0;36m<module>\u001b[1;34m\u001b[0m\n\u001b[0;32m      6\u001b[0m     \u001b[0morder\u001b[0m \u001b[1;33m=\u001b[0m \u001b[0mENIF_MODULO_sincredito_2\u001b[0m\u001b[1;33m[\u001b[0m\u001b[1;34m'niv'\u001b[0m\u001b[1;33m]\u001b[0m\u001b[1;33m.\u001b[0m\u001b[0mvalue_counts\u001b[0m\u001b[1;33m(\u001b[0m\u001b[1;33m)\u001b[0m\u001b[1;33m.\u001b[0m\u001b[0mindex\u001b[0m\u001b[1;33m\u001b[0m\u001b[1;33m\u001b[0m\u001b[0m\n\u001b[0;32m      7\u001b[0m )\n\u001b[1;32m----> 8\u001b[1;33m \u001b[0mniv\u001b[0m\u001b[1;33m.\u001b[0m\u001b[0mset_xticklabels\u001b[0m\u001b[1;33m(\u001b[0m\u001b[0mniv\u001b[0m\u001b[1;33m.\u001b[0m\u001b[0mget_xticklabels\u001b[0m\u001b[1;33m(\u001b[0m\u001b[1;33m)\u001b[0m\u001b[1;33m,\u001b[0m \u001b[0mrotation\u001b[0m\u001b[1;33m=\u001b[0m\u001b[1;36m90\u001b[0m\u001b[1;33m)\u001b[0m\u001b[1;33m\u001b[0m\u001b[1;33m\u001b[0m\u001b[0m\n\u001b[0m",
      "\u001b[1;31mNameError\u001b[0m: name 'niv' is not defined"
     ]
    },
    {
     "data": {
      "image/png": "[encoded data removed]",
      "text/plain": [
       "<Figure size 720x360 with 1 Axes>"
      ]
     },
     "metadata": {
      "needs_background": "light"
     },
     "output_type": "display_data"
    }
   ],
   "source": [
    "plt.figure(figsize=(10,5))\n",
    "educacion = sns.countplot(\n",
    "    data=ENIF_MODULO_sincredito_2,\n",
    "    x=\"niv\",\n",
    "    palette='Set1',\n",
    "    order = ENIF_MODULO_sincredito_2['niv'].value_counts().index\n",
    ")\n",
    "niv.set_xticklabels(niv.get_xticklabels(), rotation=90)"
   ]
  },
  {
   "cell_type": "code",
   "execution_count": 4,
   "metadata": {},
   "outputs": [
    {
     "name": "stderr",
     "output_type": "stream",
     "text": [
      "In c:\\users\\crist\\appdata\\local\\programs\\python\\python38\\lib\\site-packages\\matplotlib\\mpl-data\\stylelib\\_classic_test.mplstyle: \n",
      "The text.latex.preview rcparam was deprecated in Matplotlib 3.3 and will be removed two minor releases later.\n",
      "In c:\\users\\crist\\appdata\\local\\programs\\python\\python38\\lib\\site-packages\\matplotlib\\mpl-data\\stylelib\\_classic_test.mplstyle: \n",
      "The mathtext.fallback_to_cm rcparam was deprecated in Matplotlib 3.3 and will be removed two minor releases later.\n",
      "In c:\\users\\crist\\appdata\\local\\programs\\python\\python38\\lib\\site-packages\\matplotlib\\mpl-data\\stylelib\\_classic_test.mplstyle: Support for setting the 'mathtext.fallback_to_cm' rcParam is deprecated since 3.3 and will be removed two minor releases later; use 'mathtext.fallback : 'cm' instead.\n",
      "In c:\\users\\crist\\appdata\\local\\programs\\python\\python38\\lib\\site-packages\\matplotlib\\mpl-data\\stylelib\\_classic_test.mplstyle: \n",
      "The validate_bool_maybe_none function was deprecated in Matplotlib 3.3 and will be removed two minor releases later.\n",
      "In c:\\users\\crist\\appdata\\local\\programs\\python\\python38\\lib\\site-packages\\matplotlib\\mpl-data\\stylelib\\_classic_test.mplstyle: \n",
      "The savefig.jpeg_quality rcparam was deprecated in Matplotlib 3.3 and will be removed two minor releases later.\n",
      "In c:\\users\\crist\\appdata\\local\\programs\\python\\python38\\lib\\site-packages\\matplotlib\\mpl-data\\stylelib\\_classic_test.mplstyle: \n",
      "The keymap.all_axes rcparam was deprecated in Matplotlib 3.3 and will be removed two minor releases later.\n",
      "In c:\\users\\crist\\appdata\\local\\programs\\python\\python38\\lib\\site-packages\\matplotlib\\mpl-data\\stylelib\\_classic_test.mplstyle: \n",
      "The animation.avconv_path rcparam was deprecated in Matplotlib 3.3 and will be removed two minor releases later.\n",
      "In c:\\users\\crist\\appdata\\local\\programs\\python\\python38\\lib\\site-packages\\matplotlib\\mpl-data\\stylelib\\_classic_test.mplstyle: \n",
      "The animation.avconv_args rcparam was deprecated in Matplotlib 3.3 and will be removed two minor releases later.\n"
     ]
    }
   ],
   "source": [
    "import matplotlib.pyplot as plt\n",
    "import seaborn as sns"
   ]
  },
  {
   "cell_type": "markdown",
   "metadata": {},
   "source": [
    "plt.figure(figsize=(10,5))\n",
    "educacion = sns.countplot(\n",
    "    data=ENIF_MODULO_sincredito,\n",
    "    x=\"niv\",\n",
    "    palette='Set1',\n",
    "    order = ENIF_MODULO_sincredito['niv'].value_counts().index\n",
    ")\n",
    "niv.set_xticklabels(niv.get_xticklabels(), rotation=90)"
   ]
  },
  {
   "cell_type": "code",
   "execution_count": 15,
   "metadata": {},
   "outputs": [
    {
     "data": {
      "image/png": "[encoded data removed]",
      "text/plain": [
       "<Figure size 720x360 with 1 Axes>"
      ]
     },
     "metadata": {
      "needs_background": "light"
     },
     "output_type": "display_data"
    }
   ],
   "source": [
    "plt.figure(figsize=(10,5))\n",
    "sexo = sns.countplot(\n",
    "    data=ENIF_MODULO_sincredito_2,\n",
    "    x=\"sexo\",\n",
    "    palette='Set1',\n",
    "    order = ENIF_MODULO_sincredito_2['sexo'].value_counts().index\n",
    ")\n"
   ]
  },
  {
   "cell_type": "code",
   "execution_count": null,
   "metadata": {},
   "outputs": [],
   "source": [
    "\n",
    "plt.figure(figsize=(10,5))\n",
    "edad = sns.countplot(\n",
    "    data=ENIF_MODULO_sincredito_2,\n",
    "    x=\"edad\",\n",
    "    palette='Set1',\n",
    "    order = ENIF_MODULO_sincredito['edad'].value_counts().index\n",
    ")\n",
    "edad.set_xticklabels(edad.get_xticklabels(), rotation=90)\n"
   ]
  },
  {
   "cell_type": "code",
   "execution_count": 2,
   "metadata": {},
   "outputs": [],
   "source": [
    "#cuenta de cheques\n",
    "sin_cuenta = ENIF_MODULO['p5_9_5']==2\n",
    "ENIF_sin_cuenta = ENIF_MODULO[sin_cuenta]"
   ]
  },
  {
   "cell_type": "code",
   "execution_count": 7,
   "metadata": {},
   "outputs": [
    {
     "data": {
      "text/plain": [
       "(6102, 222)"
      ]
     },
     "execution_count": 7,
     "metadata": {},
     "output_type": "execute_result"
    }
   ],
   "source": [
    "ENIF_sin_cuenta.shape"
   ]
  },
  {
   "cell_type": "code",
   "execution_count": 8,
   "metadata": {},
   "outputs": [
    {
     "data": {
      "text/plain": [
       "(12446, 222)"
      ]
     },
     "execution_count": 8,
     "metadata": {},
     "output_type": "execute_result"
    }
   ],
   "source": [
    "ENIF_MODULO.shape"
   ]
  },
  {
   "cell_type": "code",
   "execution_count": 6,
   "metadata": {},
   "outputs": [
    {
     "data": {
      "text/plain": [
       "[Text(0, 0, '8'),\n",
       " Text(1, 0, '3'),\n",
       " Text(2, 0, '2'),\n",
       " Text(3, 0, '6'),\n",
       " Text(4, 0, '7'),\n",
       " Text(5, 0, '9'),\n",
       " Text(6, 0, '0'),\n",
       " Text(7, 0, '4'),\n",
       " Text(8, 0, '5'),\n",
       " Text(9, 0, '1'),\n",
       " Text(10, 0, '99')]"
      ]
     },
     "execution_count": 6,
     "metadata": {},
     "output_type": "execute_result"
    },
    {
     "data": {
      "image/png": "[encoded data removed]",
      "text/plain": [
       "<Figure size 720x360 with 1 Axes>"
      ]
     },
     "metadata": {
      "needs_background": "light"
     },
     "output_type": "display_data"
    }
   ],
   "source": [
    "\n",
    "plt.figure(figsize=(10,5))\n",
    "niv = sns.countplot(\n",
    "    data=ENIF_sin_cuenta,\n",
    "    x=\"niv\",\n",
    "    palette='Set1',\n",
    "    order = ENIF_sin_cuenta['niv'].value_counts().index\n",
    ")\n",
    "niv.set_xticklabels(niv.get_xticklabels(), rotation=90)"
   ]
  },
  {
   "cell_type": "code",
   "execution_count": 9,
   "metadata": {},
   "outputs": [
    {
     "data": {
      "text/plain": [
       "[Text(0, 0, '37'),\n",
       " Text(1, 0, '38'),\n",
       " Text(2, 0, '40'),\n",
       " Text(3, 0, '32'),\n",
       " Text(4, 0, '35'),\n",
       " Text(5, 0, '42'),\n",
       " Text(6, 0, '34'),\n",
       " Text(7, 0, '27'),\n",
       " Text(8, 0, '28'),\n",
       " Text(9, 0, '45'),\n",
       " Text(10, 0, '36'),\n",
       " Text(11, 0, '33'),\n",
       " Text(12, 0, '39'),\n",
       " Text(13, 0, '25'),\n",
       " Text(14, 0, '48'),\n",
       " Text(15, 0, '30'),\n",
       " Text(16, 0, '43'),\n",
       " Text(17, 0, '29'),\n",
       " Text(18, 0, '24'),\n",
       " Text(19, 0, '41'),\n",
       " Text(20, 0, '31'),\n",
       " Text(21, 0, '46'),\n",
       " Text(22, 0, '23'),\n",
       " Text(23, 0, '22'),\n",
       " Text(24, 0, '44'),\n",
       " Text(25, 0, '47'),\n",
       " Text(26, 0, '50'),\n",
       " Text(27, 0, '26'),\n",
       " Text(28, 0, '55'),\n",
       " Text(29, 0, '60'),\n",
       " Text(30, 0, '52'),\n",
       " Text(31, 0, '21'),\n",
       " Text(32, 0, '70'),\n",
       " Text(33, 0, '57'),\n",
       " Text(34, 0, '58'),\n",
       " Text(35, 0, '67'),\n",
       " Text(36, 0, '53'),\n",
       " Text(37, 0, '54'),\n",
       " Text(38, 0, '49'),\n",
       " Text(39, 0, '68'),\n",
       " Text(40, 0, '20'),\n",
       " Text(41, 0, '51'),\n",
       " Text(42, 0, '19'),\n",
       " Text(43, 0, '62'),\n",
       " Text(44, 0, '64'),\n",
       " Text(45, 0, '56'),\n",
       " Text(46, 0, '65'),\n",
       " Text(47, 0, '69'),\n",
       " Text(48, 0, '59'),\n",
       " Text(49, 0, '63'),\n",
       " Text(50, 0, '66'),\n",
       " Text(51, 0, '61'),\n",
       " Text(52, 0, '18')]"
      ]
     },
     "execution_count": 9,
     "metadata": {},
     "output_type": "execute_result"
    },
    {
     "data": {
      "image/png": "[encoded data removed]",
      "text/plain": [
       "<Figure size 720x360 with 1 Axes>"
      ]
     },
     "metadata": {
      "needs_background": "light"
     },
     "output_type": "display_data"
    }
   ],
   "source": [
    "\n",
    "plt.figure(figsize=(10,5))\n",
    "edad = sns.countplot(\n",
    "    data=ENIF_sin_cuenta,\n",
    "    x=\"edad\",\n",
    "    palette='Set1',\n",
    "    order = ENIF_sin_cuenta['edad'].value_counts().index\n",
    ")\n",
    "edad.set_xticklabels(edad.get_xticklabels(), rotation=90)\n"
   ]
  },
  {
   "cell_type": "code",
   "execution_count": 10,
   "metadata": {},
   "outputs": [
    {
     "data": {
      "image/png": "[encoded data removed]",
      "text/plain": [
       "<Figure size 432x288 with 1 Axes>"
      ]
     },
     "metadata": {
      "needs_background": "light"
     },
     "output_type": "display_data"
    }
   ],
   "source": [
    "ax = sns.distplot(ENIF_sin_cuenta['edad'])"
   ]
  },
  {
   "cell_type": "code",
   "execution_count": 11,
   "metadata": {},
   "outputs": [
    {
     "data": {
      "text/plain": [
       "count    6102.000000\n",
       "mean       41.536545\n",
       "std        13.878257\n",
       "min        18.000000\n",
       "25%        30.000000\n",
       "50%        40.000000\n",
       "75%        52.000000\n",
       "max        70.000000\n",
       "Name: edad, dtype: float64"
      ]
     },
     "execution_count": 11,
     "metadata": {},
     "output_type": "execute_result"
    }
   ],
   "source": [
    "ENIF_sin_cuenta['edad'].describe()"
   ]
  },
  {
   "cell_type": "code",
   "execution_count": 12,
   "metadata": {},
   "outputs": [
    {
     "data": {
      "text/plain": [
       "0    37\n",
       "dtype: int64"
      ]
     },
     "execution_count": 12,
     "metadata": {},
     "output_type": "execute_result"
    }
   ],
   "source": [
    "ENIF_sin_cuenta['edad'].mode()"
   ]
  },
  {
   "cell_type": "code",
   "execution_count": 13,
   "metadata": {},
   "outputs": [
    {
     "data": {
      "image/png": "[encoded data removed]",
      "text/plain": [
       "<Figure size 720x360 with 1 Axes>"
      ]
     },
     "metadata": {
      "needs_background": "light"
     },
     "output_type": "display_data"
    }
   ],
   "source": [
    "plt.figure(figsize=(10,5))\n",
    "sexo = sns.countplot(\n",
    "    data=ENIF_sin_cuenta,\n",
    "    x=\"sexo\",\n",
    "    palette='Set1',\n",
    "    order = ENIF_sin_cuenta['sexo'].value_counts().index\n",
    ")\n"
   ]
  },
  {
   "cell_type": "code",
   "execution_count": 14,
   "metadata": {},
   "outputs": [
    {
     "data": {
      "image/png": "[encoded data removed]",
      "text/plain": [
       "<Figure size 432x288 with 1 Axes>"
      ]
     },
     "metadata": {
      "needs_background": "light"
     },
     "output_type": "display_data"
    }
   ],
   "source": [
    "# 'p3_8a' ingresos\n",
    "\n",
    "ax = sns.distplot(ENIF_sin_cuenta['p3_8a'])"
   ]
  },
  {
   "cell_type": "code",
   "execution_count": 15,
   "metadata": {},
   "outputs": [
    {
     "data": {
      "text/plain": [
       "count     4616.000000\n",
       "mean     13082.022747\n",
       "std      27415.053054\n",
       "min          0.000000\n",
       "25%       1200.000000\n",
       "50%       3000.000000\n",
       "75%       8000.000000\n",
       "max      99888.000000\n",
       "Name: p3_8a, dtype: float64"
      ]
     },
     "execution_count": 15,
     "metadata": {},
     "output_type": "execute_result"
    }
   ],
   "source": [
    "ENIF_sin_cuenta['p3_8a'].describe()"
   ]
  },
  {
   "cell_type": "code",
   "execution_count": 17,
   "metadata": {},
   "outputs": [
    {
     "data": {
      "text/plain": [
       "<bound method Series.mode of 1            NaN\n",
       "2         5500.0\n",
       "3         4300.0\n",
       "4        99888.0\n",
       "5         2500.0\n",
       "          ...   \n",
       "12419     1200.0\n",
       "12421     1200.0\n",
       "12433    10000.0\n",
       "12435     1000.0\n",
       "12442        NaN\n",
       "Name: p3_8a, Length: 6102, dtype: float64>"
      ]
     },
     "execution_count": 17,
     "metadata": {},
     "output_type": "execute_result"
    }
   ],
   "source": [
    "ENIF_sin_cuenta['p3_8a'].mode"
   ]
  },
  {
   "cell_type": "code",
   "execution_count": 34,
   "metadata": {},
   "outputs": [],
   "source": [
    "# cuenta de nomina 'p5_9_1'\n",
    "\n",
    "sin_cuenta = ENIF_MODULO['p5_9_1']==2\n",
    "ENIF_sin_cuenta_cheques = ENIF_MODULO[sin_cuenta]"
   ]
  },
  {
   "cell_type": "code",
   "execution_count": 32,
   "metadata": {},
   "outputs": [
    {
     "data": {
      "text/plain": [
       "(3059, 222)"
      ]
     },
     "execution_count": 32,
     "metadata": {},
     "output_type": "execute_result"
    }
   ],
   "source": [
    "ENIF_sin_cuenta.shape"
   ]
  },
  {
   "cell_type": "code",
   "execution_count": 38,
   "metadata": {},
   "outputs": [
    {
     "data": {
      "text/plain": [
       "3     861\n",
       "2     828\n",
       "8     545\n",
       "6     355\n",
       "0     183\n",
       "7     111\n",
       "4      92\n",
       "9      45\n",
       "5      34\n",
       "1       4\n",
       "99      1\n",
       "Name: niv, dtype: int64"
      ]
     },
     "execution_count": 38,
     "metadata": {},
     "output_type": "execute_result"
    }
   ],
   "source": [
    "ENIF_sin_cuenta['niv'].value_counts()"
   ]
  },
  {
   "cell_type": "code",
   "execution_count": 40,
   "metadata": {},
   "outputs": [
    {
     "data": {
      "text/plain": [
       "dtype('int64')"
      ]
     },
     "execution_count": 40,
     "metadata": {},
     "output_type": "execute_result"
    }
   ],
   "source": [
    "ENIF_sin_cuenta['niv'].dtypes"
   ]
  },
  {
   "cell_type": "code",
   "execution_count": 20,
   "metadata": {},
   "outputs": [
    {
     "data": {
      "text/plain": [
       "[Text(0, 0, '3'),\n",
       " Text(1, 0, '2'),\n",
       " Text(2, 0, '8'),\n",
       " Text(3, 0, '6'),\n",
       " Text(4, 0, '0'),\n",
       " Text(5, 0, '7'),\n",
       " Text(6, 0, '4'),\n",
       " Text(7, 0, '9'),\n",
       " Text(8, 0, '5'),\n",
       " Text(9, 0, '1'),\n",
       " Text(10, 0, '99')]"
      ]
     },
     "execution_count": 20,
     "metadata": {},
     "output_type": "execute_result"
    },
    {
     "data": {
      "image/png": "[encoded data removed]",
      "text/plain": [
       "<Figure size 720x360 with 1 Axes>"
      ]
     },
     "metadata": {
      "needs_background": "light"
     },
     "output_type": "display_data"
    }
   ],
   "source": [
    "\n",
    "plt.figure(figsize=(10,5))\n",
    "niv = sns.countplot(\n",
    "    data=ENIF_sin_cuenta,\n",
    "    x=\"niv\",\n",
    "    palette='Set1',\n",
    "    order = ENIF_sin_cuenta['niv'].value_counts().index\n",
    ")\n",
    "niv.set_xticklabels(niv.get_xticklabels(), rotation=90)"
   ]
  },
  {
   "cell_type": "code",
   "execution_count": 21,
   "metadata": {},
   "outputs": [
    {
     "data": {
      "text/plain": [
       "[Text(0, 0, '70'),\n",
       " Text(1, 0, '67'),\n",
       " Text(2, 0, '48'),\n",
       " Text(3, 0, '62'),\n",
       " Text(4, 0, '68'),\n",
       " Text(5, 0, '60'),\n",
       " Text(6, 0, '69'),\n",
       " Text(7, 0, '40'),\n",
       " Text(8, 0, '64'),\n",
       " Text(9, 0, '37'),\n",
       " Text(10, 0, '65'),\n",
       " Text(11, 0, '39'),\n",
       " Text(12, 0, '27'),\n",
       " Text(13, 0, '32'),\n",
       " Text(14, 0, '36'),\n",
       " Text(15, 0, '38'),\n",
       " Text(16, 0, '42'),\n",
       " Text(17, 0, '34'),\n",
       " Text(18, 0, '50'),\n",
       " Text(19, 0, '53'),\n",
       " Text(20, 0, '23'),\n",
       " Text(21, 0, '25'),\n",
       " Text(22, 0, '55'),\n",
       " Text(23, 0, '31'),\n",
       " Text(24, 0, '22'),\n",
       " Text(25, 0, '43'),\n",
       " Text(26, 0, '35'),\n",
       " Text(27, 0, '28'),\n",
       " Text(28, 0, '57'),\n",
       " Text(29, 0, '47'),\n",
       " Text(30, 0, '33'),\n",
       " Text(31, 0, '63'),\n",
       " Text(32, 0, '30'),\n",
       " Text(33, 0, '45'),\n",
       " Text(34, 0, '41'),\n",
       " Text(35, 0, '66'),\n",
       " Text(36, 0, '24'),\n",
       " Text(37, 0, '44'),\n",
       " Text(38, 0, '46'),\n",
       " Text(39, 0, '29'),\n",
       " Text(40, 0, '58'),\n",
       " Text(41, 0, '52'),\n",
       " Text(42, 0, '59'),\n",
       " Text(43, 0, '54'),\n",
       " Text(44, 0, '56'),\n",
       " Text(45, 0, '20'),\n",
       " Text(46, 0, '19'),\n",
       " Text(47, 0, '49'),\n",
       " Text(48, 0, '61'),\n",
       " Text(49, 0, '21'),\n",
       " Text(50, 0, '51'),\n",
       " Text(51, 0, '26'),\n",
       " Text(52, 0, '18')]"
      ]
     },
     "execution_count": 21,
     "metadata": {},
     "output_type": "execute_result"
    },
    {
     "data": {
      "image/png": "[encoded data removed]",
      "text/plain": [
       "<Figure size 720x360 with 1 Axes>"
      ]
     },
     "metadata": {
      "needs_background": "light"
     },
     "output_type": "display_data"
    }
   ],
   "source": [
    "\n",
    "plt.figure(figsize=(10,5))\n",
    "edad = sns.countplot(\n",
    "    data=ENIF_sin_cuenta,\n",
    "    x=\"edad\",\n",
    "    palette='Set1',\n",
    "    order = ENIF_sin_cuenta['edad'].value_counts().index\n",
    ")\n",
    "edad.set_xticklabels(edad.get_xticklabels(), rotation=90)\n"
   ]
  },
  {
   "cell_type": "code",
   "execution_count": 22,
   "metadata": {},
   "outputs": [
    {
     "data": {
      "image/png": "[encoded data removed]",
      "text/plain": [
       "<Figure size 432x288 with 1 Axes>"
      ]
     },
     "metadata": {
      "needs_background": "light"
     },
     "output_type": "display_data"
    }
   ],
   "source": [
    "ax = sns.distplot(ENIF_sin_cuenta['edad'])"
   ]
  },
  {
   "cell_type": "code",
   "execution_count": 23,
   "metadata": {},
   "outputs": [
    {
     "data": {
      "text/plain": [
       "count    3059.000000\n",
       "mean       45.369729\n",
       "std        15.306706\n",
       "min        18.000000\n",
       "25%        32.000000\n",
       "50%        45.000000\n",
       "75%        59.000000\n",
       "max        70.000000\n",
       "Name: edad, dtype: float64"
      ]
     },
     "execution_count": 23,
     "metadata": {},
     "output_type": "execute_result"
    }
   ],
   "source": [
    "ENIF_sin_cuenta['edad'].describe()"
   ]
  },
  {
   "cell_type": "code",
   "execution_count": 24,
   "metadata": {},
   "outputs": [
    {
     "data": {
      "image/png": "[encoded data removed]",
      "text/plain": [
       "<Figure size 720x360 with 1 Axes>"
      ]
     },
     "metadata": {
      "needs_background": "light"
     },
     "output_type": "display_data"
    }
   ],
   "source": [
    "plt.figure(figsize=(10,5))\n",
    "sexo = sns.countplot(\n",
    "    data=ENIF_sin_cuenta,\n",
    "    x=\"sexo\",\n",
    "    palette='Set1',\n",
    "    order = ENIF_sin_cuenta['sexo'].value_counts().index\n",
    ")\n"
   ]
  },
  {
   "cell_type": "code",
   "execution_count": 33,
   "metadata": {},
   "outputs": [
    {
     "data": {
      "text/plain": [
       "1    1457\n",
       "5     917\n",
       "6     339\n",
       "8     183\n",
       "4     110\n",
       "3      34\n",
       "7      12\n",
       "2       7\n",
       "Name: p3_5, dtype: int64"
      ]
     },
     "execution_count": 33,
     "metadata": {},
     "output_type": "execute_result"
    }
   ],
   "source": [
    "# 'p3_5' trabajo o no o que hizo durante el mes?\n",
    "\n",
    "ENIF_sin_cuenta['p3_5'].value_counts()"
   ]
  },
  {
   "cell_type": "markdown",
   "metadata": {},
   "source": [
    "1\ttrabajó?\n",
    "2\ttenía trabajo, pero no trabajó?\n",
    "3\tbuscó trabajo?\n",
    "4\t¿Es estudiante?\n",
    "5\t¿Se dedica a los quehaceres del hogar o a cuidar a sus hijos?\n",
    "6\t¿Es jubilado(a) o pensionado(a)?\n",
    "7\t¿Está incapacitado(a) permanentemente para trabajar?\n",
    "8\t¿No trabajó?"
   ]
  },
  {
   "cell_type": "code",
   "execution_count": 35,
   "metadata": {},
   "outputs": [
    {
     "data": {
      "text/plain": [
       "(3059, 222)"
      ]
     },
     "execution_count": 35,
     "metadata": {},
     "output_type": "execute_result"
    }
   ],
   "source": [
    "ENIF_sin_cuenta_cheques.shape"
   ]
  },
  {
   "cell_type": "code",
   "execution_count": 39,
   "metadata": {},
   "outputs": [
    {
     "data": {
      "text/plain": [
       "dtype('int64')"
      ]
     },
     "execution_count": 39,
     "metadata": {},
     "output_type": "execute_result"
    }
   ],
   "source": [
    "ENIF_sin_cuenta_cheques['p3_5'].dtypes"
   ]
  },
  {
   "cell_type": "code",
   "execution_count": 37,
   "metadata": {},
   "outputs": [
    {
     "data": {
      "text/plain": [
       "1    1457\n",
       "5     917\n",
       "6     339\n",
       "8     183\n",
       "4     110\n",
       "3      34\n",
       "7      12\n",
       "2       7\n",
       "Name: p3_5, dtype: int64"
      ]
     },
     "execution_count": 37,
     "metadata": {},
     "output_type": "execute_result"
    }
   ],
   "source": [
    "ENIF_sin_cuenta_cheques['p3_5'].value_counts()"
   ]
  },
  {
   "cell_type": "code",
   "execution_count": 36,
   "metadata": {},
   "outputs": [
    {
     "data": {
      "text/plain": [
       "[Text(0, 0, '1'),\n",
       " Text(1, 0, '5'),\n",
       " Text(2, 0, '6'),\n",
       " Text(3, 0, '8'),\n",
       " Text(4, 0, '4'),\n",
       " Text(5, 0, '3'),\n",
       " Text(6, 0, '7'),\n",
       " Text(7, 0, '2')]"
      ]
     },
     "execution_count": 36,
     "metadata": {},
     "output_type": "execute_result"
    },
    {
     "data": {
      "image/png": "[encoded data removed]",
      "text/plain": [
       "<Figure size 720x360 with 1 Axes>"
      ]
     },
     "metadata": {
      "needs_background": "light"
     },
     "output_type": "display_data"
    }
   ],
   "source": [
    "\n",
    "plt.figure(figsize=(10,5))\n",
    "trabajo = sns.countplot(\n",
    "    data=ENIF_sin_cuenta_cheques,\n",
    "    x=\"niv\",\n",
    "    palette='Set1',\n",
    "    order = ENIF_sin_cuenta_cheques['p3_5'].value_counts().index\n",
    ")\n",
    "trabajo.set_xticklabels(trabajo.get_xticklabels(), rotation=90)"
   ]
  },
  {
   "cell_type": "code",
   "execution_count": null,
   "metadata": {},
   "outputs": [],
   "source": [
    "p6_8_2"
   ]
  },
  {
   "cell_type": "code",
   "execution_count": 41,
   "metadata": {},
   "outputs": [],
   "source": [
    "\n",
    "sin_cuenta = ENIF_MODULO['p6_8_2']==2\n",
    "ENIF_sin_cuenta = ENIF_MODULO[sin_cuenta]"
   ]
  },
  {
   "cell_type": "code",
   "execution_count": 42,
   "metadata": {},
   "outputs": [
    {
     "data": {
      "text/plain": [
       "(2810, 222)"
      ]
     },
     "execution_count": 42,
     "metadata": {},
     "output_type": "execute_result"
    }
   ],
   "source": [
    "ENIF_sin_cuenta.shape"
   ]
  },
  {
   "cell_type": "code",
   "execution_count": 43,
   "metadata": {},
   "outputs": [
    {
     "data": {
      "image/png": "[encoded data removed]",
      "text/plain": [
       "<Figure size 720x360 with 1 Axes>"
      ]
     },
     "metadata": {
      "needs_background": "light"
     },
     "output_type": "display_data"
    }
   ],
   "source": [
    "plt.figure(figsize=(10,5))\n",
    "sexo = sns.countplot(\n",
    "    data=ENIF_sin_cuenta,\n",
    "    x=\"sexo\",\n",
    "    palette='Set1',\n",
    "    order = ENIF_sin_cuenta['sexo'].value_counts().index\n",
    ")\n"
   ]
  },
  {
   "cell_type": "code",
   "execution_count": 44,
   "metadata": {},
   "outputs": [
    {
     "data": {
      "text/plain": [
       "[Text(0, 0, '38'),\n",
       " Text(1, 0, '33'),\n",
       " Text(2, 0, '37'),\n",
       " Text(3, 0, '34'),\n",
       " Text(4, 0, '42'),\n",
       " Text(5, 0, '35'),\n",
       " Text(6, 0, '36'),\n",
       " Text(7, 0, '28'),\n",
       " Text(8, 0, '40'),\n",
       " Text(9, 0, '45'),\n",
       " Text(10, 0, '43'),\n",
       " Text(11, 0, '39'),\n",
       " Text(12, 0, '41'),\n",
       " Text(13, 0, '25'),\n",
       " Text(14, 0, '27'),\n",
       " Text(15, 0, '32'),\n",
       " Text(16, 0, '23'),\n",
       " Text(17, 0, '47'),\n",
       " Text(18, 0, '44'),\n",
       " Text(19, 0, '24'),\n",
       " Text(20, 0, '48'),\n",
       " Text(21, 0, '30'),\n",
       " Text(22, 0, '46'),\n",
       " Text(23, 0, '29'),\n",
       " Text(24, 0, '52'),\n",
       " Text(25, 0, '50'),\n",
       " Text(26, 0, '31'),\n",
       " Text(27, 0, '55'),\n",
       " Text(28, 0, '22'),\n",
       " Text(29, 0, '21'),\n",
       " Text(30, 0, '26'),\n",
       " Text(31, 0, '20'),\n",
       " Text(32, 0, '49'),\n",
       " Text(33, 0, '51'),\n",
       " Text(34, 0, '54'),\n",
       " Text(35, 0, '53'),\n",
       " Text(36, 0, '56'),\n",
       " Text(37, 0, '19'),\n",
       " Text(38, 0, '60'),\n",
       " Text(39, 0, '59'),\n",
       " Text(40, 0, '58'),\n",
       " Text(41, 0, '57'),\n",
       " Text(42, 0, '62'),\n",
       " Text(43, 0, '64'),\n",
       " Text(44, 0, '61'),\n",
       " Text(45, 0, '68'),\n",
       " Text(46, 0, '18'),\n",
       " Text(47, 0, '67'),\n",
       " Text(48, 0, '70'),\n",
       " Text(49, 0, '63'),\n",
       " Text(50, 0, '65'),\n",
       " Text(51, 0, '66'),\n",
       " Text(52, 0, '69')]"
      ]
     },
     "execution_count": 44,
     "metadata": {},
     "output_type": "execute_result"
    },
    {
     "data": {
      "image/png": "[encoded data removed]",
      "text/plain": [
       "<Figure size 720x360 with 1 Axes>"
      ]
     },
     "metadata": {
      "needs_background": "light"
     },
     "output_type": "display_data"
    }
   ],
   "source": [
    "\n",
    "plt.figure(figsize=(10,5))\n",
    "edad = sns.countplot(\n",
    "    data=ENIF_sin_cuenta,\n",
    "    x=\"edad\",\n",
    "    palette='Set1',\n",
    "    order = ENIF_sin_cuenta['edad'].value_counts().index\n",
    ")\n",
    "edad.set_xticklabels(edad.get_xticklabels(), rotation=90)\n"
   ]
  },
  {
   "cell_type": "code",
   "execution_count": 45,
   "metadata": {},
   "outputs": [
    {
     "data": {
      "image/png": "[encoded data removed]",
      "text/plain": [
       "<Figure size 432x288 with 1 Axes>"
      ]
     },
     "metadata": {
      "needs_background": "light"
     },
     "output_type": "display_data"
    }
   ],
   "source": [
    "\n",
    "\n",
    "ax = sns.distplot(ENIF_sin_cuenta['edad'])\n"
   ]
  },
  {
   "cell_type": "code",
   "execution_count": 46,
   "metadata": {},
   "outputs": [
    {
     "data": {
      "text/plain": [
       "count    2810.000000\n",
       "mean       39.768327\n",
       "std        12.302410\n",
       "min        18.000000\n",
       "25%        30.000000\n",
       "50%        39.000000\n",
       "75%        48.000000\n",
       "max        70.000000\n",
       "Name: edad, dtype: float64"
      ]
     },
     "execution_count": 46,
     "metadata": {},
     "output_type": "execute_result"
    }
   ],
   "source": [
    "\n",
    "ENIF_sin_cuenta['edad'].describe()"
   ]
  },
  {
   "cell_type": "code",
   "execution_count": 47,
   "metadata": {},
   "outputs": [
    {
     "data": {
      "text/plain": [
       "[Text(0, 0, '3'),\n",
       " Text(1, 0, '8'),\n",
       " Text(2, 0, '6'),\n",
       " Text(3, 0, '2'),\n",
       " Text(4, 0, '7'),\n",
       " Text(5, 0, '4'),\n",
       " Text(6, 0, '9'),\n",
       " Text(7, 0, '0'),\n",
       " Text(8, 0, '5'),\n",
       " Text(9, 0, '1'),\n",
       " Text(10, 0, '99')]"
      ]
     },
     "execution_count": 47,
     "metadata": {},
     "output_type": "execute_result"
    },
    {
     "data": {
      "image/png": "[encoded data removed]",
      "text/plain": [
       "<Figure size 720x360 with 1 Axes>"
      ]
     },
     "metadata": {
      "needs_background": "light"
     },
     "output_type": "display_data"
    }
   ],
   "source": [
    "\n",
    "plt.figure(figsize=(10,5))\n",
    "niv = sns.countplot(\n",
    "    data=ENIF_sin_cuenta,\n",
    "    x=\"niv\",\n",
    "    palette='Set1',\n",
    "    order = ENIF_sin_cuenta['niv'].value_counts().index\n",
    ")\n",
    "niv.set_xticklabels(niv.get_xticklabels(), rotation=90)"
   ]
  },
  {
   "cell_type": "code",
   "execution_count": 48,
   "metadata": {},
   "outputs": [
    {
     "data": {
      "image/png": "[encoded data removed]",
      "text/plain": [
       "<Figure size 432x288 with 1 Axes>"
      ]
     },
     "metadata": {
      "needs_background": "light"
     },
     "output_type": "display_data"
    }
   ],
   "source": [
    "# 'p3_8a' ingresos\n",
    "\n",
    "ax = sns.distplot(ENIF_sin_cuenta['p3_8a'])\n"
   ]
  },
  {
   "cell_type": "code",
   "execution_count": 49,
   "metadata": {},
   "outputs": [
    {
     "data": {
      "text/plain": [
       "count     2211.000000\n",
       "mean     10893.532338\n",
       "std      25153.294152\n",
       "min          0.000000\n",
       "25%       1109.500000\n",
       "50%       2000.000000\n",
       "75%       6750.000000\n",
       "max      99888.000000\n",
       "Name: p3_8a, dtype: float64"
      ]
     },
     "execution_count": 49,
     "metadata": {},
     "output_type": "execute_result"
    }
   ],
   "source": [
    "\n",
    "ENIF_sin_cuenta['p3_8a'].describe()"
   ]
  },
  {
   "cell_type": "code",
   "execution_count": null,
   "metadata": {},
   "outputs": [],
   "source": []
  }
 ],
 "metadata": {
  "kernelspec": {
   "display_name": "Python 3",
   "language": "python",
   "name": "python3"
  },
  "language_info": {
   "codemirror_mode": {
    "name": "ipython",
    "version": 3
   },
   "file_extension": ".py",
   "mimetype": "text/x-python",
   "name": "python",
   "nbconvert_exporter": "python",
   "pygments_lexer": "ipython3",
   "version": "3.8.1"
  }
 },
 "nbformat": 4,
 "nbformat_minor": 4
}
