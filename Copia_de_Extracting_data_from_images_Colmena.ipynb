{
  "cells": [
    {
      "cell_type": "code",
      "execution_count": null,
      "metadata": {
        "id": "UqFpZURnfUKq"
      },
      "outputs": [],
      "source": [
        "!sudo apt install tesseract-ocr\n",
        "\n",
        "!pip install pytesseract"
      ]
    },
    {
      "cell_type": "code",
      "execution_count": null,
      "metadata": {
        "id": "hQC8sjpHeBhl"
      },
      "outputs": [],
      "source": [
        "import numpy as np\n",
        "import cv2\n",
        "import pandas as pd"
      ]
    },
    {
      "cell_type": "code",
      "source": [
        "import imageio\n",
        "import matplotlib.pyplot as plt\n",
        "import numpy as np\n",
        "from sklearn.cluster import KMeans\n",
        "import cv2\n",
        "from skimage.color import rgb2lab, deltaE_cie76\n",
        "from collections import Counter\n",
        "import os \n"
      ],
      "metadata": {
        "id": "cNxUm_rtkFMK"
      },
      "execution_count": null,
      "outputs": []
    },
    {
      "cell_type": "code",
      "source": [
        "import urllib.request\n",
        "from urllib.error import URLError, HTTPError\n"
      ],
      "metadata": {
        "id": "oZzs6OB9_-pS"
      },
      "execution_count": null,
      "outputs": []
    },
    {
      "cell_type": "code",
      "execution_count": null,
      "metadata": {
        "id": "6BBCfK3yyLAu"
      },
      "outputs": [],
      "source": [
        "#you need to load data to colab for this to be available, then copy path\n",
        "#urls expired need to be updated every 5 days\n",
        "#upload data before running, data is deleted after closing the session and needs to be reloaded\n",
        "db = pd.read_csv(r'')"
      ]
    },
    {
      "cell_type": "code",
      "source": [
        "db.head(10)"
      ],
      "metadata": {
        "id": "WfN1Zzy4MeXY"
      },
      "execution_count": null,
      "outputs": []
    },
    {
      "cell_type": "code",
      "source": [],
      "metadata": {
        "id": "MzgOKhVCaOzx"
      },
      "execution_count": null,
      "outputs": []
    },
    {
      "cell_type": "markdown",
      "source": [
        "## FUNCTIONS: "
      ],
      "metadata": {
        "id": "xKomuuSLjoOo"
      }
    },
    {
      "cell_type": "code",
      "execution_count": null,
      "metadata": {
        "id": "1Wuu9gflpevx"
      },
      "outputs": [],
      "source": [
        "def url_to_image(url):\n",
        "\t# download the image, convert it to a NumPy array, and then read\n",
        "\t# it into OpenCV format\n",
        "  resp = urllib.request.urlopen(url)\n",
        "  image = np.asarray(bytearray(resp.read()), dtype=\"uint8\")\n",
        "  image = cv2.imdecode(image, cv2.IMREAD_COLOR)\n",
        "\t# return the image\n",
        "  return image"
      ]
    },
    {
      "cell_type": "code",
      "source": [
        "def RGB_HEX(color):\n",
        "     return \"#{:02x}{:02x}{:02x}\".format(int(color[0]), int(color[1]), int(color[2]))"
      ],
      "metadata": {
        "id": "MMyM3IqqjwH0"
      },
      "execution_count": null,
      "outputs": []
    },
    {
      "cell_type": "code",
      "execution_count": null,
      "metadata": {
        "id": "4BEIotdeEGfi"
      },
      "outputs": [],
      "source": [
        "def get_colors_as_list(image, number_of_colors):\n",
        "     reshaped_image = cv2.resize(image, (600, 400))\n",
        "     reshaped_image = reshaped_image.reshape(reshaped_image.shape[0]*reshaped_image.shape[1], 3)\n",
        "     clf = KMeans(n_clusters = number_of_colors)\n",
        "     labels = clf.fit_predict(reshaped_image)\n",
        "     counts = Counter(labels)\n",
        "     counts = dict(sorted(counts.items()))\n",
        "     center_colors = clf.cluster_centers_\n",
        "     ordered_colors = [center_colors[i] for i in counts.keys()]\n",
        "     hex_colors = [RGB_HEX(ordered_colors[i]) for i in counts.keys()]\n",
        "     rgb_colors = [ordered_colors[i] for i in counts.keys()]\n",
        "     return hex_colors\n",
        "#returns number of colors names based on hex\n",
        "\n",
        " \n"
      ]
    },
    {
      "cell_type": "code",
      "execution_count": null,
      "metadata": {
        "id": "vab9soPKO4zJ"
      },
      "outputs": [],
      "source": [
        "def get_colors_as_count(image, number_of_colors):\n",
        "     reshaped_image = cv2.resize(image, (600, 400))\n",
        "     reshaped_image = reshaped_image.reshape(reshaped_image.shape[0]*reshaped_image.shape[1], 3)\n",
        "     clf = KMeans(n_clusters = number_of_colors)\n",
        "     labels = clf.fit_predict(reshaped_image)\n",
        "     counts = Counter(labels)\n",
        "     counts = dict(sorted(counts.items()))\n",
        "     return counts\n",
        "#returns how many pixels are estimated from each color"
      ]
    },
    {
      "cell_type": "code",
      "source": [
        "db['Country'].unique() #remove from list countries with not latin abecedary"
      ],
      "metadata": {
        "id": "JR_zLm35jwZT"
      },
      "execution_count": null,
      "outputs": []
    },
    {
      "cell_type": "markdown",
      "metadata": {
        "id": "r2wb-HRV9IWB"
      },
      "source": [
        "## Extracting images from URL"
      ]
    },
    {
      "cell_type": "code",
      "execution_count": null,
      "metadata": {
        "id": "e_mYx5xLySQ9"
      },
      "outputs": [],
      "source": [
        "from google.colab.patches import cv2_imshow #patch to fix crashes only for google colab"
      ]
    },
    {
      "cell_type": "code",
      "source": [
        "#filtering by countries with roman letters\n",
        "\n",
        "countries = ['Brazil', 'Mexico','Portugal',\n",
        "       'United Kingdom', 'France', 'Canada', 'Spain', 'Poland',\n",
        "       'United States', 'Italy', 'Ecuador', 'Australia', 'Netherlands',\n",
        "       'Germany']\n",
        "db = db[db['Country'].isin(countries)]"
      ],
      "metadata": {
        "id": "pTcLQGnOaHEC"
      },
      "execution_count": null,
      "outputs": []
    },
    {
      "cell_type": "code",
      "source": [
        "db = db.reset_index(drop=True)"
      ],
      "metadata": {
        "id": "NKi4B-b7i6_7"
      },
      "execution_count": null,
      "outputs": []
    },
    {
      "cell_type": "code",
      "source": [
        "db"
      ],
      "metadata": {
        "id": "vJmKMZTemuIK"
      },
      "execution_count": null,
      "outputs": []
    },
    {
      "cell_type": "code",
      "source": [
        "urls =db['Ad creative image URL'].tolist()\n",
        "#urls expire so the next chapters of the code wont run if the links are expired, \n",
        "#click and validate before running"
      ],
      "metadata": {
        "id": "oDfF0s1maOUL"
      },
      "execution_count": null,
      "outputs": []
    },
    {
      "cell_type": "code",
      "source": [
        "print(urls)"
      ],
      "metadata": {
        "id": "2HzBMeHI26s3"
      },
      "execution_count": null,
      "outputs": []
    },
    {
      "cell_type": "code",
      "source": [],
      "metadata": {
        "id": "sZ_SRkA8HDOj"
      },
      "execution_count": null,
      "outputs": []
    },
    {
      "cell_type": "code",
      "source": [
        "from urllib.error import URLError, HTTPError"
      ],
      "metadata": {
        "id": "VpuSEKWeMTh2"
      },
      "execution_count": null,
      "outputs": []
    },
    {
      "cell_type": "code",
      "source": [
        "images = []\n",
        "for entry in urls:\n",
        "    try:\n",
        "      resp = urllib.request.urlopen(entry)\n",
        "    except HTTPError:\n",
        "      print(\"url expired trying next one\")\n",
        "    else:\n",
        "      image=url_to_image(entry)\n",
        "      images.append(image)\n",
        "\n"
      ],
      "metadata": {
        "id": "dGCuAqaHIhyb"
      },
      "execution_count": null,
      "outputs": []
    },
    {
      "cell_type": "code",
      "source": [
        "len(images)"
      ],
      "metadata": {
        "id": "dNW4toeqfr4J"
      },
      "execution_count": null,
      "outputs": []
    },
    {
      "cell_type": "code",
      "execution_count": null,
      "metadata": {
        "id": "atau7EitfKT5"
      },
      "outputs": [],
      "source": [
        "#image are read as a 'numpy.ndarray' type"
      ]
    },
    {
      "cell_type": "markdown",
      "metadata": {
        "id": "JaqKWieY9sb_"
      },
      "source": [
        "## Extracting text from images"
      ]
    },
    {
      "cell_type": "code",
      "execution_count": null,
      "metadata": {
        "id": "xE-3RWSE9uap"
      },
      "outputs": [],
      "source": [
        "# OCR libraries\n",
        "import pytesseract\n",
        "\n",
        "import shutil\n",
        "\n",
        "import os\n",
        "\n",
        "import random\n"
      ]
    },
    {
      "cell_type": "code",
      "execution_count": null,
      "metadata": {
        "id": "-SVtY2E09rmY"
      },
      "outputs": [],
      "source": [
        "# read image (add index to select how many from the list)\n",
        "img = images\n",
        "\n"
      ]
    },
    {
      "cell_type": "code",
      "execution_count": null,
      "metadata": {
        "id": "Od58CTx1P9PY"
      },
      "outputs": [],
      "source": [
        "texts = []\n",
        "\n",
        "for i in img:\n",
        "  text = pytesseract.image_to_string(i)\n",
        "  texts.append(text)\n",
        "  "
      ]
    },
    {
      "cell_type": "code",
      "source": [
        "len(texts)"
      ],
      "metadata": {
        "id": "vzuOjj2WgADa"
      },
      "execution_count": null,
      "outputs": []
    },
    {
      "cell_type": "markdown",
      "metadata": {
        "id": "4-KRq2PJ9YZI"
      },
      "source": [
        "## Extracting main colors from images"
      ]
    },
    {
      "cell_type": "code",
      "execution_count": null,
      "metadata": {
        "id": "8pE19kP4_JIp"
      },
      "outputs": [],
      "source": [
        "#function to get colors from image based on kmeans and then plot them\n"
      ]
    },
    {
      "cell_type": "code",
      "execution_count": null,
      "metadata": {
        "id": "fYEy3gu-DS4Z"
      },
      "outputs": [],
      "source": [
        "#list of top 5 main colors (this is meant to be used as dictionary key)\n",
        "colors_list = []\n",
        "for image in img:\n",
        "  i = get_colors_as_list(image, 3)\n",
        "  colors_list.append(i)\n",
        "  \n",
        "\n",
        "\n"
      ]
    },
    {
      "cell_type": "code",
      "execution_count": null,
      "metadata": {
        "id": "0da0W0tUPiZY"
      },
      "outputs": [],
      "source": [
        "color_counts_list = []\n",
        "for image in img:\n",
        "  i = get_colors_as_count(image, 3)\n",
        "  color_counts_list.append(i) #count pixels with color to get proportions"
      ]
    },
    {
      "cell_type": "code",
      "source": [],
      "metadata": {
        "id": "MXYcDxwHgLEx"
      },
      "execution_count": null,
      "outputs": []
    },
    {
      "cell_type": "code",
      "execution_count": null,
      "metadata": {
        "id": "EgDKZBGHGis4"
      },
      "outputs": [],
      "source": [
        "#adding from 2 functions color tags and pixel count\n",
        "yeah = [dict(zip(colors_list[i], color_counts_list[i].values())) #zip merges 2 elements list like one on one\n",
        "  for i in range(len(colors_list))]"
      ]
    },
    {
      "cell_type": "code",
      "source": [
        "len(yeah)"
      ],
      "metadata": {
        "id": "CeUIfZ3Cgtpg"
      },
      "execution_count": null,
      "outputs": []
    },
    {
      "cell_type": "code",
      "execution_count": null,
      "metadata": {
        "id": "Fw95HGoDWypt"
      },
      "outputs": [],
      "source": [
        "#creating df\n",
        "colorsdf = pd.DataFrame.from_dict(yeah)"
      ]
    },
    {
      "cell_type": "code",
      "source": [
        "colorsdf.shape"
      ],
      "metadata": {
        "id": "aImyfZHlhV8A"
      },
      "execution_count": null,
      "outputs": []
    },
    {
      "cell_type": "code",
      "execution_count": null,
      "metadata": {
        "id": "zmZNbUIbivSb"
      },
      "outputs": [],
      "source": [
        "colorsdf.to_csv(r'colordf.csv')"
      ]
    },
    {
      "cell_type": "code",
      "execution_count": null,
      "metadata": {
        "id": "xNV2T3bkXESA"
      },
      "outputs": [],
      "source": [
        "listOfWidths = []\n",
        "for image in img:\n",
        "    width = image.shape[1]\n",
        "    listOfWidths.append(width)"
      ]
    },
    {
      "cell_type": "code",
      "execution_count": null,
      "metadata": {
        "id": "J-i4JQx_aGZJ"
      },
      "outputs": [],
      "source": [
        "len(listOfWidths)"
      ]
    },
    {
      "cell_type": "code",
      "execution_count": null,
      "metadata": {
        "id": "Af7IqfUJW5DD"
      },
      "outputs": [],
      "source": [
        "listOfHeights = []\n",
        "for image in img:\n",
        "    height = image.shape[0]\n",
        "    listOfHeights.append(height)"
      ]
    },
    {
      "cell_type": "code",
      "execution_count": null,
      "metadata": {
        "id": "hi93eg0MarKX"
      },
      "outputs": [],
      "source": [
        "len(listOfHeights)"
      ]
    },
    {
      "cell_type": "code",
      "execution_count": null,
      "metadata": {
        "id": "kOZIAY0PazJC"
      },
      "outputs": [],
      "source": [
        "heights = pd.DataFrame(listOfHeights, columns = ['height'])\n",
        "widths = pd.DataFrame(listOfWidths, columns = ['width'])"
      ]
    },
    {
      "cell_type": "code",
      "execution_count": null,
      "metadata": {
        "id": "HjPwi4JKbR9A"
      },
      "outputs": [],
      "source": [
        "db['image_adHeight'] = heights['height']\n",
        "db['image_adWidth'] = widths['width']"
      ]
    },
    {
      "cell_type": "markdown",
      "metadata": {
        "id": "qsR6vkzTS7qs"
      },
      "source": [
        "## Creating df"
      ]
    },
    {
      "cell_type": "code",
      "execution_count": null,
      "metadata": {
        "id": "AmxFkuLKlTqX"
      },
      "outputs": [],
      "source": [
        "#merging colors data to dataset"
      ]
    },
    {
      "cell_type": "code",
      "source": [
        "db"
      ],
      "metadata": {
        "id": "T-grHp2hoRHP"
      },
      "execution_count": null,
      "outputs": []
    },
    {
      "cell_type": "code",
      "execution_count": null,
      "metadata": {
        "id": "tFE0ah73lTqY"
      },
      "outputs": [],
      "source": [
        "db_vf = pd.concat([db, colorsdf], axis=1) "
      ]
    },
    {
      "cell_type": "code",
      "source": [
        "db_vf.shape,db.shape,colorsdf.shape"
      ],
      "metadata": {
        "id": "y5bwvfg3oUCQ"
      },
      "execution_count": null,
      "outputs": []
    },
    {
      "cell_type": "code",
      "execution_count": null,
      "metadata": {
        "id": "IpSYZaublTqZ"
      },
      "outputs": [],
      "source": [
        "db_vf = db_vf.fillna(0)"
      ]
    },
    {
      "cell_type": "code",
      "source": [],
      "metadata": {
        "id": "myj2V_X5lIkL"
      },
      "execution_count": null,
      "outputs": []
    },
    {
      "cell_type": "code",
      "execution_count": null,
      "metadata": {
        "id": "hoo3w_IJS9a_"
      },
      "outputs": [],
      "source": [
        "#creating df from text extracted from images\n",
        "texts_df = pd.DataFrame(texts, columns = ['postImageText'])"
      ]
    },
    {
      "cell_type": "code",
      "source": [
        "db_vf['postImageText'] = texts_df['postImageText']"
      ],
      "metadata": {
        "id": "5W0KOiplcb7r"
      },
      "execution_count": null,
      "outputs": []
    },
    {
      "cell_type": "code",
      "execution_count": null,
      "metadata": {
        "id": "ZMCe6BrBUoGb"
      },
      "outputs": [],
      "source": [
        "#saving\n",
        "texts_df.to_csv(r'text_analysis.csv')"
      ]
    },
    {
      "cell_type": "code",
      "execution_count": null,
      "metadata": {
        "id": "Uolo061Zs5l2"
      },
      "outputs": [],
      "source": [
        "#cleaning unwanted patterns use regex to identify them first\n",
        "db_vf['postImageText'] = db_vf['postImageText'].str.replace('n\\n',' ')"
      ]
    },
    {
      "cell_type": "code",
      "execution_count": null,
      "metadata": {
        "id": "UKTUwanZtGG3"
      },
      "outputs": [],
      "source": [
        "db_vf['postImageText'] = db_vf['postImageText'].str.replace('\\n','')"
      ]
    },
    {
      "cell_type": "code",
      "source": [
        "db_vf['postImageText_len'] = texts_df['postImageText'].str.len()"
      ],
      "metadata": {
        "id": "TVz54ggdJrQM"
      },
      "execution_count": null,
      "outputs": []
    },
    {
      "cell_type": "code",
      "source": [
        "db_vf.shape"
      ],
      "metadata": {
        "id": "o0wIZ5-Fe-xC"
      },
      "execution_count": null,
      "outputs": []
    },
    {
      "cell_type": "code",
      "execution_count": null,
      "metadata": {
        "id": "zhgKLDsQUyok"
      },
      "outputs": [],
      "source": [
        "#saving database\n",
        "db_vf.to_csv(r'graphicdata_ProgrammaticCreativeAnalysis - extracted04-21-22.csv')"
      ]
    },
    {
      "cell_type": "code",
      "source": [
        "db_vf"
      ],
      "metadata": {
        "id": "hyZ7w82QoADK"
      },
      "execution_count": null,
      "outputs": []
    },
    {
      "cell_type": "code",
      "source": [
        "#download to PC\n",
        "from google.colab import files\n",
        "files.download(r'graphicdata_ProgrammaticCreativeAnalysis - extracted04-21-22.csv')"
      ],
      "metadata": {
        "id": "H7h4uaSWl0_F"
      },
      "execution_count": null,
      "outputs": []
    }
  ],
  "metadata": {
    "colab": {
      "provenance": []
    },
    "kernelspec": {
      "display_name": "Python 3",
      "name": "python3"
    },
    "language_info": {
      "name": "python"
    }
  },
  "nbformat": 4,
  "nbformat_minor": 0
}